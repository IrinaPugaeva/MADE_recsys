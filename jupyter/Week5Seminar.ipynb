{
 "cells": [
  {
   "cell_type": "code",
   "execution_count": 1,
   "metadata": {},
   "outputs": [
    {
     "name": "stderr",
     "output_type": "stream",
     "text": [
      "/Users/n.anokhin/Projects/virtualenv/recsys-course-itmo-2022/lib/python3.7/site-packages/lightfm/_lightfm_fast.py:10: UserWarning: LightFM was compiled without OpenMP support. Only a single thread will be used.\n",
      "  \"LightFM was compiled without OpenMP support. \"\n"
     ]
    }
   ],
   "source": [
    "from collections import defaultdict\n",
    "\n",
    "import pandas as pd\n",
    "import numpy as np\n",
    "import scipy.stats as ss\n",
    "\n",
    "import lightfm\n",
    "import lightfm.data as ld\n",
    "import lightfm.evaluation as lv\n",
    "\n",
    "import tqdm\n",
    "import json\n",
    "import optuna\n",
    "\n",
    "import tensorboardX as tb\n",
    "\n",
    "import matplotlib.pyplot as pl\n",
    "import seaborn as sns\n",
    "\n",
    "np.random.seed(31337)"
   ]
  },
  {
   "cell_type": "code",
   "execution_count": 2,
   "metadata": {},
   "outputs": [],
   "source": [
    "DATA_DIR = \"/Users/n.anokhin/Desktop/\""
   ]
  },
  {
   "cell_type": "code",
   "execution_count": 3,
   "metadata": {},
   "outputs": [],
   "source": [
    "data = pd.concat([\n",
    "    pd.read_json(DATA_DIR + \"data.json.1\", lines=True), \n",
    "    pd.read_json(DATA_DIR + \"data.json\", lines=True),\n",
    "]).drop_duplicates(subset=[\"user\", \"track\"])"
   ]
  },
  {
   "cell_type": "code",
   "execution_count": 4,
   "metadata": {},
   "outputs": [],
   "source": [
    "positives = data[data[\"time\"] > 0.8].copy()\n",
    "positives[\"test\"] = np.random.random(len(positives)) >= 0.7"
   ]
  },
  {
   "cell_type": "code",
   "execution_count": 5,
   "metadata": {},
   "outputs": [],
   "source": [
    "user_counts = positives[~positives[\"test\"]].groupby(\"user\").size()\n",
    "users = set(user_counts[user_counts >= 5].index.values)"
   ]
  },
  {
   "cell_type": "code",
   "execution_count": 6,
   "metadata": {},
   "outputs": [],
   "source": [
    "track_counts = positives[~positives[\"test\"]].groupby(\"track\").size()\n",
    "tracks = set(track_counts[track_counts >= 5].index.values)"
   ]
  },
  {
   "cell_type": "markdown",
   "metadata": {},
   "source": [
    "## Train LightFM"
   ]
  },
  {
   "cell_type": "code",
   "execution_count": 8,
   "metadata": {},
   "outputs": [
    {
     "data": {
      "text/plain": [
       "(68617, 25744)"
      ]
     },
     "execution_count": 8,
     "metadata": {},
     "output_type": "execute_result"
    }
   ],
   "source": [
    "train_data = positives[~positives[\"test\"] & positives[\"user\"].isin(users) & positives[\"track\"].isin(tracks)]\n",
    "test_data = positives[positives[\"test\"] & positives[\"user\"].isin(users) & positives[\"track\"].isin(tracks)]\n",
    "\n",
    "len(train_data), len(test_data)"
   ]
  },
  {
   "cell_type": "code",
   "execution_count": 9,
   "metadata": {},
   "outputs": [],
   "source": [
    "dataset = ld.Dataset()\n",
    "dataset.fit(users, tracks)"
   ]
  },
  {
   "cell_type": "code",
   "execution_count": 10,
   "metadata": {},
   "outputs": [],
   "source": [
    "train_interactions, _ = dataset.build_interactions(train_data[[\"user\", \"track\"]].itertuples(index=False, name=None))\n",
    "test_interactions, _ = dataset.build_interactions(test_data[[\"user\", \"track\"]].itertuples(index=False, name=None))"
   ]
  },
  {
   "cell_type": "code",
   "execution_count": 11,
   "metadata": {},
   "outputs": [],
   "source": [
    "def fit_model(epochs=1, at=10, loss=\"warp\", no_components=30, learning_rate=0.01, max_sampled=10, user_alpha=0.0, item_alpha=0.0, threads=30, verbose=False):\n",
    "    model = lightfm.LightFM(\n",
    "        no_components=no_components,\n",
    "        loss=loss,\n",
    "        learning_rate=learning_rate,\n",
    "        max_sampled=max_sampled,\n",
    "        user_alpha=user_alpha,\n",
    "        item_alpha=item_alpha,\n",
    "    )\n",
    "\n",
    "    precisions_at = []\n",
    "    \n",
    "    for epoch in range(epochs):\n",
    "        model = model.fit_partial(train_interactions, num_threads=threads)\n",
    "        precision_at = lv.precision_at_k(model, test_interactions, train_interactions=train_interactions, k=at, num_threads=threads)\n",
    "        if verbose:\n",
    "            print(f\"{epoch}:\\t{np.mean(precision_at)} +/- {ss.sem(precision_at) * 1.96}\")\n",
    "        precisions_at.append(np.mean(precision_at))\n",
    "        \n",
    "    return model, precisions_at\n",
    "\n",
    "\n",
    "def objective(trial):\n",
    "    loss = trial.suggest_categorical(\"loss\", [\"warp\", \"bpr\"])\n",
    "    no_components = trial.suggest_categorical(\"no_components\", [10, 30, 50])\n",
    "    learning_rate = trial.suggest_categorical(\"learning_rate\", [0.0001, 0.001, 0.01])\n",
    "    max_sampled = trial.suggest_categorical(\"max_sampled\", [10, 20, 50, 100])\n",
    "    user_alpha = trial.suggest_categorical(\"user_alpha\", [0.0, 0.0001])\n",
    "    item_alpha = trial.suggest_categorical(\"item_alpha\", [0.0, 0.0001])\n",
    "    \n",
    "    model, precisions_at = fit_model(\n",
    "        epochs=5, \n",
    "        at=10,\n",
    "        loss=loss,\n",
    "        no_components=no_components, \n",
    "        learning_rate=learning_rate, \n",
    "        max_sampled=max_sampled, \n",
    "        user_alpha=user_alpha, \n",
    "        item_alpha=item_alpha,\n",
    "    )\n",
    "    \n",
    "    return precisions_at[-1]"
   ]
  },
  {
   "cell_type": "code",
   "execution_count": 12,
   "metadata": {},
   "outputs": [],
   "source": [
    "# study = optuna.create_study(direction=\"maximize\")\n",
    "# study.optimize(objective, n_trials=30)\n",
    "# best_params = study.best_params\n",
    "\n",
    "best_params = {\n",
    "    'loss': 'warp',\n",
    "    'no_components': 50,\n",
    "    'learning_rate': 0.01,\n",
    "    'max_sampled': 50,\n",
    "    'user_alpha': 0.0,\n",
    "    'item_alpha': 0.0001\n",
    "}"
   ]
  },
  {
   "cell_type": "code",
   "execution_count": 13,
   "metadata": {
    "tags": []
   },
   "outputs": [
    {
     "name": "stdout",
     "output_type": "stream",
     "text": [
      "0:\t0.008293518796563148 +/- 0.0006979486797925465\n",
      "1:\t0.008563028648495674 +/- 0.0007184217540019047\n",
      "2:\t0.009175549261271954 +/- 0.000754105237894036\n",
      "3:\t0.011086610145866871 +/- 0.0008532516717363061\n",
      "4:\t0.013842949643731117 +/- 0.0009787974960511951\n",
      "5:\t0.015999021008610725 +/- 0.0010660609109747138\n",
      "6:\t0.017750827595591545 +/- 0.0011241710878149268\n",
      "7:\t0.018816612660884857 +/- 0.0011647740962830923\n",
      "8:\t0.01960063725709915 +/- 0.0011798765372956026\n",
      "9:\t0.020482666790485382 +/- 0.0011971329371168822\n",
      "10:\t0.021315691992640495 +/- 0.001219932671518507\n",
      "11:\t0.022124219685792923 +/- 0.0012385380331990888\n",
      "12:\t0.022846993058919907 +/- 0.001253914113371412\n",
      "13:\t0.023557517677545547 +/- 0.0012674258752396227\n",
      "14:\t0.024170035496354103 +/- 0.001277425826803737\n",
      "15:\t0.025039812549948692 +/- 0.0012975919661256266\n",
      "16:\t0.02573808655142784 +/- 0.0013113069773993096\n",
      "17:\t0.02632610686123371 +/- 0.0013211653413060134\n",
      "18:\t0.026754871010780334 +/- 0.0013273528512386527\n",
      "19:\t0.02747764252126217 +/- 0.0013452597299723169\n",
      "20:\t0.02807791344821453 +/- 0.001358434493820321\n",
      "21:\t0.02842092327773571 +/- 0.0013631333937931985\n",
      "22:\t0.029082445427775383 +/- 0.0013742861695199623\n",
      "23:\t0.02947445958852768 +/- 0.001383748459734332\n",
      "24:\t0.030099228024482727 +/- 0.0013934270105487193\n",
      "25:\t0.030454490333795547 +/- 0.0013990926180318395\n",
      "26:\t0.03088325448334217 +/- 0.0014063952115814598\n",
      "27:\t0.03127526864409447 +/- 0.0014150007025128003\n",
      "28:\t0.031667280942201614 +/- 0.0014210711925094063\n",
      "29:\t0.031961292028427124 +/- 0.0014252701716782072\n",
      "30:\t0.03232879936695099 +/- 0.0014330794744812322\n",
      "31:\t0.03268406167626381 +/- 0.0014379288517475447\n",
      "32:\t0.03313732519745827 +/- 0.0014468522683890755\n",
      "33:\t0.03345583751797676 +/- 0.0014513654557839106\n",
      "34:\t0.034068357199430466 +/- 0.0014648573371933754\n",
      "35:\t0.03433786332607269 +/- 0.001464650774378112\n",
      "36:\t0.03477888181805611 +/- 0.0014785830968451613\n",
      "37:\t0.03519539535045624 +/- 0.0014832957353464401\n",
      "38:\t0.03551390394568443 +/- 0.0014882660116626878\n",
      "39:\t0.03601616993546486 +/- 0.0014967019529905767\n",
      "40:\t0.036175426095724106 +/- 0.0014966279265669533\n",
      "41:\t0.036469437181949615 +/- 0.0014994309096203944\n",
      "42:\t0.03677569702267647 +/- 0.0015041703786594933\n",
      "43:\t0.03720445930957794 +/- 0.0015089748228564448\n",
      "44:\t0.03758421912789345 +/- 0.0015161822164857287\n",
      "45:\t0.037976235151290894 +/- 0.0015233566376468487\n",
      "46:\t0.0381232388317585 +/- 0.0015276784554225354\n",
      "47:\t0.03838049992918968 +/- 0.0015274773880186328\n",
      "48:\t0.03871125727891922 +/- 0.001528644193154303\n",
      "49:\t0.03907876834273338 +/- 0.0015336644130620344\n",
      "50:\t0.03931153193116188 +/- 0.0015363138478568681\n",
      "51:\t0.03954428806900978 +/- 0.0015419363001978323\n",
      "52:\t0.039801545441150665 +/- 0.0015423733470307525\n",
      "53:\t0.03999755159020424 +/- 0.0015452178689288906\n",
      "54:\t0.04012005403637886 +/- 0.001545961689019534\n",
      "55:\t0.04034056514501572 +/- 0.0015503410469847618\n",
      "56:\t0.04049982130527496 +/- 0.0015511758646223482\n",
      "57:\t0.04078157991170883 +/- 0.001555686627570995\n",
      "58:\t0.041087839752435684 +/- 0.0015602263222441585\n",
      "59:\t0.04124709218740463 +/- 0.0015643407690558522\n",
      "60:\t0.04151659831404686 +/- 0.0015690867032847873\n",
      "61:\t0.041786108165979385 +/- 0.0015763592337016698\n",
      "62:\t0.04185961186885834 +/- 0.0015765386427196216\n",
      "63:\t0.04206787049770355 +/- 0.0015777692916049233\n",
      "64:\t0.04234962910413742 +/- 0.001583529937378634\n",
      "65:\t0.042496632784605026 +/- 0.0015824040245686773\n",
      "66:\t0.04274164140224457 +/- 0.0015840342221858498\n",
      "67:\t0.04293764382600784 +/- 0.0015873597542077936\n",
      "68:\t0.04299889877438545 +/- 0.001584579237689033\n",
      "69:\t0.043121401220560074 +/- 0.0015855591988384397\n",
      "70:\t0.043415408581495285 +/- 0.0015926764030695102\n",
      "71:\t0.043550170958042145 +/- 0.0015965514762275226\n",
      "72:\t0.043844178318977356 +/- 0.0016014239665474992\n",
      "73:\t0.044003430753946304 +/- 0.0016024281721587915\n",
      "74:\t0.04416268691420555 +/- 0.0016052212957977324\n",
      "75:\t0.04430969059467316 +/- 0.0016061878416782293\n",
      "76:\t0.04437094181776047 +/- 0.0016030556188323848\n",
      "77:\t0.044481195509433746 +/- 0.0016053923000688972\n",
      "78:\t0.04467720165848732 +/- 0.0016071395176221032\n",
      "79:\t0.04473845660686493 +/- 0.0016061579401752373\n",
      "80:\t0.04467720165848732 +/- 0.001605344780923602\n",
      "81:\t0.04489770904183388 +/- 0.0016099850092987165\n",
      "82:\t0.044995710253715515 +/- 0.0016090551533705397\n",
      "83:\t0.045056965202093124 +/- 0.0016116504422004957\n",
      "84:\t0.04526522010564804 +/- 0.0016144466368046091\n",
      "85:\t0.04538772627711296 +/- 0.001614970640440825\n",
      "86:\t0.0456327386200428 +/- 0.0016206367328131827\n",
      "87:\t0.045828744769096375 +/- 0.0016230126900779495\n",
      "88:\t0.04598799720406532 +/- 0.0016281670626747799\n",
      "89:\t0.04602474719285965 +/- 0.0016275009864919158\n",
      "90:\t0.04615950211882591 +/- 0.0016304849948607675\n",
      "91:\t0.04630650579929352 +/- 0.0016309983309337537\n",
      "92:\t0.046294257044792175 +/- 0.0016299244629019776\n",
      "93:\t0.046355508267879486 +/- 0.0016303430839438651\n",
      "94:\t0.04652700945734978 +/- 0.0016340516784635979\n",
      "95:\t0.04660051688551903 +/- 0.0016365923364394393\n",
      "96:\t0.04661276564002037 +/- 0.0016341363724504507\n",
      "97:\t0.04666176810860634 +/- 0.001634183891595746\n",
      "98:\t0.04677202180027962 +/- 0.001635346171098531\n",
      "99:\t0.04695577919483185 +/- 0.0016362168705397076\n",
      "100:\t0.04706603288650513 +/- 0.0016363117472005524\n",
      "101:\t0.04720078781247139 +/- 0.0016371274925281224\n",
      "102:\t0.047384537756443024 +/- 0.0016404368615754758\n",
      "103:\t0.047458045184612274 +/- 0.001636620460015226\n",
      "104:\t0.04747029393911362 +/- 0.0016380379528867911\n",
      "105:\t0.047580547630786896 +/- 0.0016412812153680705\n",
      "106:\t0.0477275550365448 +/- 0.0016427845336347096\n",
      "107:\t0.04789905995130539 +/- 0.0016435938137724434\n",
      "108:\t0.04799706116318703 +/- 0.0016429497192350221\n",
      "109:\t0.04794806241989136 +/- 0.0016429212723997433\n",
      "110:\t0.047984812408685684 +/- 0.0016432935057045567\n",
      "111:\t0.04803381487727165 +/- 0.0016426195096641432\n",
      "112:\t0.048058316111564636 +/- 0.0016422821883844447\n",
      "113:\t0.04802156612277031 +/- 0.001636282168957052\n",
      "114:\t0.04815632104873657 +/- 0.001640578934122124\n",
      "115:\t0.04821757227182388 +/- 0.001640962319879405\n",
      "116:\t0.048450324684381485 +/- 0.0016463352158926955\n",
      "117:\t0.048450324684381485 +/- 0.0016452842992848375\n",
      "118:\t0.048389073461294174 +/- 0.0016420995467715748\n",
      "119:\t0.048511575907468796 +/- 0.0016446098183551866\n",
      "120:\t0.04860958084464073 +/- 0.0016442996508727996\n",
      "121:\t0.048744335770606995 +/- 0.0016485530992659694\n",
      "122:\t0.04859733209013939 +/- 0.0016463972817151221\n",
      "123:\t0.0486585833132267 +/- 0.001647121706236257\n",
      "124:\t0.04873208329081535 +/- 0.0016450475117070903\n",
      "125:\t0.04873209074139595 +/- 0.00164294309241544\n",
      "126:\t0.048744335770606995 +/- 0.0016443505642427588\n",
      "127:\t0.04884234070777893 +/- 0.0016433321352138273\n",
      "128:\t0.048915840685367584 +/- 0.0016447586793511629\n",
      "129:\t0.04895259439945221 +/- 0.0016451205683522382\n",
      "130:\t0.0490383505821228 +/- 0.001645495549362732\n",
      "131:\t0.049111850559711456 +/- 0.0016514609800245014\n",
      "132:\t0.04914860054850578 +/- 0.0016500729037666906\n",
      "133:\t0.049160849303007126 +/- 0.0016476282538599155\n",
      "134:\t0.04924660548567772 +/- 0.0016486971113695687\n",
      "135:\t0.049283355474472046 +/- 0.0016469553892277235\n",
      "136:\t0.049271102994680405 +/- 0.0016483525167513046\n",
      "137:\t0.04929560422897339 +/- 0.0016494066659540807\n",
      "138:\t0.049491606652736664 +/- 0.0016529324572311978\n",
      "139:\t0.049503859132528305 +/- 0.0016532830321500601\n",
      "140:\t0.049626369029283524 +/- 0.0016532982253461752\n",
      "141:\t0.049687616527080536 +/- 0.001651559574169502\n",
      "142:\t0.04974886775016785 +/- 0.001651564423061879\n",
      "143:\t0.04966311529278755 +/- 0.0016498107403188369\n",
      "144:\t0.04976112022995949 +/- 0.0016505177088274143\n",
      "145:\t0.04983462393283844 +/- 0.0016487742087583643\n",
      "146:\t0.04978562146425247 +/- 0.0016442191592593402\n",
      "147:\t0.049908123910427094 +/- 0.001643523019943738\n",
      "148:\t0.04998162388801575 +/- 0.0016466785174729926\n",
      "149:\t0.05001837760210037 +/- 0.0016470286075026173\n",
      "150:\t0.05006738007068634 +/- 0.0016459775292650134\n",
      "151:\t0.050153132528066635 +/- 0.0016470252132779533\n",
      "152:\t0.05016538128256798 +/- 0.0016456238833809787\n",
      "153:\t0.05023888498544693 +/- 0.001647720544444826\n",
      "154:\t0.050140880048274994 +/- 0.0016466757697673122\n",
      "155:\t0.0502021349966526 +/- 0.0016466728604318857\n",
      "156:\t0.0502878837287426 +/- 0.0016480667553605492\n",
      "157:\t0.05036138743162155 +/- 0.0016505072028939309\n",
      "158:\t0.050434891134500504 +/- 0.0016504987981471439\n",
      "159:\t0.05045939236879349 +/- 0.0016494472350203021\n",
      "160:\t0.050496142357587814 +/- 0.001650490555030103\n",
      "161:\t0.050618644803762436 +/- 0.0016522170839758331\n",
      "162:\t0.050630901008844376 +/- 0.0016511676220356884\n",
      "163:\t0.050667647272348404 +/- 0.0016508115517054652\n",
      "164:\t0.05060639977455139 +/- 0.00165012381713665\n",
      "165:\t0.05063089728355408 +/- 0.001649071122601587\n",
      "166:\t0.05064314976334572 +/- 0.0016539565433012359\n",
      "167:\t0.050667647272348404 +/- 0.001655345912597014\n",
      "168:\t0.05070440098643303 +/- 0.0016542933796916967\n",
      "169:\t0.05065539479255676 +/- 0.0016539544421145392\n",
      "170:\t0.050728898495435715 +/- 0.0016549853166339052\n",
      "171:\t0.050728898495435715 +/- 0.001653939895437408\n",
      "172:\t0.050839152187108994 +/- 0.0016546124368101082\n",
      "173:\t0.050790149718523026 +/- 0.001651135296086508\n",
      "174:\t0.050741150975227356 +/- 0.001649049464215636\n",
      "175:\t0.05070440098643303 +/- 0.0016445052439095875\n",
      "176:\t0.050679899752140045 +/- 0.001646962662566289\n",
      "177:\t0.05087590590119362 +/- 0.001647619202594145\n",
      "178:\t0.05070440098643303 +/- 0.001646957813673912\n",
      "179:\t0.05077790096402168 +/- 0.0016483420108178212\n",
      "180:\t0.05070440098643303 +/- 0.001647307742073791\n",
      "181:\t0.05069214850664139 +/- 0.0016455592314826178\n",
      "182:\t0.05080240219831467 +/- 0.0016490358873169804\n",
      "183:\t0.05085140839219093 +/- 0.0016458745711168735\n",
      "184:\t0.050728898495435715 +/- 0.0016452013832251896\n",
      "185:\t0.05080240219831467 +/- 0.001646936640177199\n",
      "186:\t0.05072890222072601 +/- 0.0016469528031517891\n",
      "187:\t0.05060639604926109 +/- 0.0016424186038899863\n",
      "188:\t0.0506676509976387 +/- 0.0016427585112456194\n",
      "189:\t0.050557393580675125 +/- 0.0016431288049934818\n",
      "190:\t0.05053289607167244 +/- 0.0016441850553829546\n",
      "191:\t0.050557393580675125 +/- 0.0016431288049934818\n",
      "192:\t0.050508394837379456 +/- 0.0016424342819753388\n",
      "193:\t0.05053289234638214 +/- 0.0016427816242992833\n",
      "194:\t0.05058189854025841 +/- 0.0016438265606065429\n",
      "195:\t0.050679899752140045 +/- 0.0016441595178831021\n",
      "196:\t0.05054514855146408 +/- 0.0016410239008125937\n",
      "197:\t0.05065539479255676 +/- 0.0016427609356918077\n",
      "198:\t0.0506676509976387 +/- 0.0016448629305372698\n",
      "199:\t0.05047164112329483 +/- 0.00163892513856205\n"
     ]
    }
   ],
   "source": [
    "model, precisions_at = fit_model(\n",
    "    epochs=200,\n",
    "    at=10,\n",
    "    loss=best_params[\"loss\"],\n",
    "    no_components=best_params[\"no_components\"], \n",
    "    learning_rate=best_params[\"learning_rate\"], \n",
    "    max_sampled=best_params[\"max_sampled\"],\n",
    "    user_alpha=best_params[\"user_alpha\"],\n",
    "    item_alpha=best_params[\"item_alpha\"],\n",
    "    verbose=True,\n",
    ")"
   ]
  },
  {
   "cell_type": "code",
   "execution_count": 14,
   "metadata": {},
   "outputs": [
    {
     "data": {
      "image/png": "[encoded data removed]",
      "text/plain": [
       "<Figure size 432x288 with 1 Axes>"
      ]
     },
     "metadata": {
      "needs_background": "light"
     },
     "output_type": "display_data"
    }
   ],
   "source": [
    "figure, ax = pl.subplots()\n",
    "\n",
    "ax.plot(np.arange(len(precisions_at)), precisions_at)\n",
    "\n",
    "pass"
   ]
  },
  {
   "cell_type": "markdown",
   "metadata": {},
   "source": [
    "## Save track embeddings"
   ]
  },
  {
   "cell_type": "code",
   "execution_count": 15,
   "metadata": {},
   "outputs": [],
   "source": [
    "biases, embeddings = model.get_item_representations()"
   ]
  },
  {
   "cell_type": "code",
   "execution_count": 16,
   "metadata": {},
   "outputs": [],
   "source": [
    "model.item_biases *= 0.0"
   ]
  },
  {
   "cell_type": "code",
   "execution_count": 17,
   "metadata": {},
   "outputs": [],
   "source": [
    "track_meta = pd.read_json(DATA_DIR + \"tracks.json\", lines=True)\n",
    "track_meta[\"dataset_index\"] = track_meta[\"track\"].map(lambda t: dataset.mapping()[2].get(t))"
   ]
  },
  {
   "cell_type": "code",
   "execution_count": 18,
   "metadata": {},
   "outputs": [],
   "source": [
    "dataset_tracks = track_meta[pd.notnull(track_meta[\"dataset_index\"])].sort_values(\"dataset_index\")"
   ]
  },
  {
   "cell_type": "code",
   "execution_count": 19,
   "metadata": {},
   "outputs": [
    {
     "name": "stdout",
     "output_type": "stream",
     "text": [
      "warning: Embedding dir exists, did you set global_step for add_embedding()?\n"
     ]
    }
   ],
   "source": [
    "writer = tb.SummaryWriter(comment='msd_ligtfm_embeddings', log_dir=DATA_DIR + \"tb\")\n",
    "writer.add_embedding(embeddings, metadata=list(dataset_tracks[[\"artist\", \"title\"]].itertuples(index=False, name=None)), tag=\"lightfm\", metadata_header=[\"artist\", \"title\"])\n",
    "writer.close()"
   ]
  },
  {
   "cell_type": "markdown",
   "metadata": {},
   "source": [
    "## Compute top recommendations"
   ]
  },
  {
   "cell_type": "code",
   "execution_count": 20,
   "metadata": {},
   "outputs": [
    {
     "data": {
      "text/html": [
       "<div>\n",
       "<style scoped>\n",
       "    .dataframe tbody tr th:only-of-type {\n",
       "        vertical-align: middle;\n",
       "    }\n",
       "\n",
       "    .dataframe tbody tr th {\n",
       "        vertical-align: top;\n",
       "    }\n",
       "\n",
       "    .dataframe thead th {\n",
       "        text-align: right;\n",
       "    }\n",
       "</style>\n",
       "<table border=\"1\" class=\"dataframe\">\n",
       "  <thead>\n",
       "    <tr style=\"text-align: right;\">\n",
       "      <th></th>\n",
       "      <th>artist</th>\n",
       "      <th>title</th>\n",
       "      <th>track</th>\n",
       "      <th>dataset_index</th>\n",
       "    </tr>\n",
       "  </thead>\n",
       "  <tbody>\n",
       "    <tr>\n",
       "      <th>7</th>\n",
       "      <td>Kanye West</td>\n",
       "      <td>Stronger</td>\n",
       "      <td>7</td>\n",
       "      <td>0.0</td>\n",
       "    </tr>\n",
       "    <tr>\n",
       "      <th>8</th>\n",
       "      <td>Jack Johnson</td>\n",
       "      <td>Constellations</td>\n",
       "      <td>8</td>\n",
       "      <td>1.0</td>\n",
       "    </tr>\n",
       "    <tr>\n",
       "      <th>10</th>\n",
       "      <td>Foo Fighters</td>\n",
       "      <td>Learn To Fly</td>\n",
       "      <td>10</td>\n",
       "      <td>2.0</td>\n",
       "    </tr>\n",
       "    <tr>\n",
       "      <th>12</th>\n",
       "      <td>Lady GaGa</td>\n",
       "      <td>Paper Gangsta</td>\n",
       "      <td>12</td>\n",
       "      <td>3.0</td>\n",
       "    </tr>\n",
       "    <tr>\n",
       "      <th>17</th>\n",
       "      <td>Harmonia</td>\n",
       "      <td>Sehr kosmisch</td>\n",
       "      <td>17</td>\n",
       "      <td>4.0</td>\n",
       "    </tr>\n",
       "    <tr>\n",
       "      <th>...</th>\n",
       "      <td>...</td>\n",
       "      <td>...</td>\n",
       "      <td>...</td>\n",
       "      <td>...</td>\n",
       "    </tr>\n",
       "    <tr>\n",
       "      <th>32505</th>\n",
       "      <td>Zac Brown Band</td>\n",
       "      <td>Sic 'Em On A Chicken (Album)</td>\n",
       "      <td>32505</td>\n",
       "      <td>5194.0</td>\n",
       "    </tr>\n",
       "    <tr>\n",
       "      <th>32535</th>\n",
       "      <td>Ronnie Foster</td>\n",
       "      <td>Mystic Brew</td>\n",
       "      <td>32535</td>\n",
       "      <td>5195.0</td>\n",
       "    </tr>\n",
       "    <tr>\n",
       "      <th>32602</th>\n",
       "      <td>Atreyu</td>\n",
       "      <td>Bleeding Mascara (Album Version)</td>\n",
       "      <td>32602</td>\n",
       "      <td>5196.0</td>\n",
       "    </tr>\n",
       "    <tr>\n",
       "      <th>32651</th>\n",
       "      <td>The Crystals</td>\n",
       "      <td>Then He Kissed Me</td>\n",
       "      <td>32651</td>\n",
       "      <td>5197.0</td>\n",
       "    </tr>\n",
       "    <tr>\n",
       "      <th>32724</th>\n",
       "      <td>Apocalyptica</td>\n",
       "      <td>Harmageddon</td>\n",
       "      <td>32724</td>\n",
       "      <td>5198.0</td>\n",
       "    </tr>\n",
       "  </tbody>\n",
       "</table>\n",
       "<p>5199 rows × 4 columns</p>\n",
       "</div>"
      ],
      "text/plain": [
       "               artist                             title  track  dataset_index\n",
       "7          Kanye West                          Stronger      7            0.0\n",
       "8        Jack Johnson                    Constellations      8            1.0\n",
       "10       Foo Fighters                      Learn To Fly     10            2.0\n",
       "12          Lady GaGa                     Paper Gangsta     12            3.0\n",
       "17           Harmonia                     Sehr kosmisch     17            4.0\n",
       "...               ...                               ...    ...            ...\n",
       "32505  Zac Brown Band      Sic 'Em On A Chicken (Album)  32505         5194.0\n",
       "32535   Ronnie Foster                       Mystic Brew  32535         5195.0\n",
       "32602          Atreyu  Bleeding Mascara (Album Version)  32602         5196.0\n",
       "32651    The Crystals                 Then He Kissed Me  32651         5197.0\n",
       "32724    Apocalyptica                       Harmageddon  32724         5198.0\n",
       "\n",
       "[5199 rows x 4 columns]"
      ]
     },
     "execution_count": 20,
     "metadata": {},
     "output_type": "execute_result"
    }
   ],
   "source": [
    "dataset_tracks"
   ]
  },
  {
   "cell_type": "code",
   "execution_count": 27,
   "metadata": {},
   "outputs": [
    {
     "name": "stderr",
     "output_type": "stream",
     "text": [
      "50000it [00:53, 926.07it/s] \n"
     ]
    }
   ],
   "source": [
    "k = 20\n",
    "max_tracks_from_same_artist = 5\n",
    "\n",
    "with open(DATA_DIR + f\"recommendations_{k}_{max_tracks_from_same_artist}.json\", \"w\") as rf:\n",
    "    for _, track in tqdm.tqdm(track_meta.iterrows()):\n",
    "        j = track[\"dataset_index\"]\n",
    "        \n",
    "        recommendations = []\n",
    "        if pd.notna(j):\n",
    "            embedding = embeddings[int(j)]\n",
    "            neighbours = np.argsort(-np.dot(embeddings, embedding))\n",
    "            \n",
    "            artists = defaultdict(int)\n",
    "            for neighbour in neighbours:\n",
    "                recommended_track = dataset_tracks[dataset_tracks[\"dataset_index\"] == neighbour].iloc[0]\n",
    "                \n",
    "                recommendation = int(recommended_track[\"track\"])\n",
    "                if recommendation == track[\"track\"]:\n",
    "                    continue\n",
    "                \n",
    "                artist = recommended_track[\"artist\"]\n",
    "                if artists[artist] >= max_tracks_from_same_artist:\n",
    "                    continue\n",
    "                \n",
    "                recommendations.append(recommendation)\n",
    "                artists[artist] += 1\n",
    "\n",
    "                if len(recommendations) == k:\n",
    "                    break\n",
    "         \n",
    "        track_with_recommendations = dict(track)\n",
    "        track_with_recommendations[\"recommendations\"] = recommendations\n",
    "        \n",
    "        rf.write(json.dumps(track_with_recommendations) + \"\\n\")"
   ]
  },
  {
   "cell_type": "markdown",
   "metadata": {},
   "source": [
    "## How many unique artist per recommendation list?"
   ]
  },
  {
   "cell_type": "code",
   "execution_count": 22,
   "metadata": {},
   "outputs": [],
   "source": [
    "dataset_track_artists = dict(zip(\n",
    "    dataset_tracks[\"track\"].values.tolist(),\n",
    "    dataset_tracks[\"artist\"].values.tolist(),\n",
    "))"
   ]
  },
  {
   "cell_type": "code",
   "execution_count": 31,
   "metadata": {},
   "outputs": [
    {
     "name": "stdout",
     "output_type": "stream",
     "text": [
      "Nobody Not Really (Interlude) by Alicia Keys \n",
      "===\n",
      "Alicia Keys\n",
      "Alicia Keys\n",
      "East Blues Experience\n",
      "Pixies\n",
      "Pixies\n",
      "Alicia Keys\n",
      "Soltero\n",
      "Arctic Monkeys\n",
      "Kings Of Convenience\n",
      "LCD Soundsystem\n",
      "Alicia Keys\n",
      "Cypress Hill\n",
      "Van Halen\n",
      "Michael Jackson\n",
      "Belle & Sebastian\n",
      "Cypress Hill featuring Damian Marley\n",
      "Octopus Project\n",
      "Alicia Keys featuring Tony! Toni! Toné! and Jermaine Paul\n",
      "Alicia Keys\n",
      "Hot Chip\n"
     ]
    }
   ],
   "source": [
    "recs = pd.read_json(DATA_DIR + f\"recommendations_{k}_{max_tracks_from_same_artist}.json\", lines=True)\n",
    "recs = recs[recs[\"dataset_index\"].notnull()]\n",
    "\n",
    "sample = recs.sample(frac=0.1).iloc[0]\n",
    "\n",
    "print(sample[\"title\"], \"by\" , sample[\"artist\"], \"\\n===\")\n",
    "print(\"\\n\".join([dataset_track_artists[track] for track in sample[\"recommendations\"]]))"
   ]
  },
  {
   "cell_type": "code",
   "execution_count": 26,
   "metadata": {},
   "outputs": [
    {
     "data": {
      "text/plain": [
       "18    463\n",
       "16    449\n",
       "19    444\n",
       "15    434\n",
       "17    428\n",
       "14    351\n",
       "13    345\n",
       "20    320\n",
       "12    303\n",
       "11    298\n",
       "10    293\n",
       "9     262\n",
       "8     231\n",
       "7     177\n",
       "6     120\n",
       "5      87\n",
       "4      65\n",
       "1      52\n",
       "3      44\n",
       "2      33\n",
       "Name: recommendations, dtype: int64"
      ]
     },
     "execution_count": 26,
     "metadata": {},
     "output_type": "execute_result"
    }
   ],
   "source": [
    "def count_artists(tracks):\n",
    "    return len(\n",
    "        set([dataset_track_artists[track] for track in tracks])\n",
    "    )\n",
    "\n",
    "\n",
    "artist_counts = recs[\"recommendations\"].map(count_artists)\n",
    "artist_counts.value_counts()"
   ]
  },
  {
   "cell_type": "code",
   "execution_count": null,
   "metadata": {},
   "outputs": [],
   "source": []
  }
 ],
 "metadata": {
  "kernelspec": {
   "display_name": "Python 3 (ipykernel)",
   "language": "python",
   "name": "python3"
  },
  "language_info": {
   "codemirror_mode": {
    "name": "ipython",
    "version": 3
   },
   "file_extension": ".py",
   "mimetype": "text/x-python",
   "name": "python",
   "nbconvert_exporter": "python",
   "pygments_lexer": "ipython3",
   "version": "3.7.5"
  }
 },
 "nbformat": 4,
 "nbformat_minor": 4
}
