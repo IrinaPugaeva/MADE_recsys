{
 "cells": [
  {
   "cell_type": "code",
   "execution_count": 2,
   "metadata": {
    "tags": []
   },
   "outputs": [],
   "source": [
    "import tqdm\n",
    "import json\n",
    "\n",
    "import pandas as pd\n",
    "import numpy as np\n",
    "\n",
    "from sklearn.metrics.pairwise import cosine_similarity"
   ]
  },
  {
   "cell_type": "markdown",
   "metadata": {},
   "source": [
    "## User-based Collaborative Filtering"
   ]
  },
  {
   "cell_type": "markdown",
   "metadata": {},
   "source": [
    "#### Основная идея: \n",
    "Рекомендовать пользователю треки, которые понравились похожим на него пользователям\n",
    "\n",
    "$$\\hat r_{ui} = h^{-1} \\left( \\frac{\\sum_{v \\in N_i(u)} w_{uv} h(r_{vi})}{\\sum_{v \\in N_i(u)} w_{uv}} \\right)$$\n",
    "\n",
    "$N_i(u)$ - соседи пользователя $u$, которые оценили айтем $i$,\n",
    "$w_{uv}, w_{ij}$ - веса соседей, \n",
    "$h$ - функция нормализации\n",
    "\n",
    "\n",
    "\n",
    "**Нормализация**: В качестве функции нормализации используем среднее время прослушивания\n",
    "\n",
    "**Веса**: Похожих пользователей будем искать по *cosine similarity*\n",
    "\n",
    "**Отсутствующие данные**: заполним средним времнем прослушивания по пользователю\n",
    "\n",
    "**Соседи**: в качестве соседей будем рассматривать всех пользователей. Q: Как это упростит формулу?"
   ]
  },
  {
   "cell_type": "code",
   "execution_count": 3,
   "metadata": {
    "tags": []
   },
   "outputs": [
    {
     "data": {
      "text/html": [
       "<div>\n",
       "<style scoped>\n",
       "    .dataframe tbody tr th:only-of-type {\n",
       "        vertical-align: middle;\n",
       "    }\n",
       "\n",
       "    .dataframe tbody tr th {\n",
       "        vertical-align: top;\n",
       "    }\n",
       "\n",
       "    .dataframe thead th {\n",
       "        text-align: right;\n",
       "    }\n",
       "</style>\n",
       "<table border=\"1\" class=\"dataframe\">\n",
       "  <thead>\n",
       "    <tr style=\"text-align: right;\">\n",
       "      <th></th>\n",
       "      <th>user</th>\n",
       "      <th>time</th>\n",
       "      <th>track</th>\n",
       "    </tr>\n",
       "  </thead>\n",
       "  <tbody>\n",
       "    <tr>\n",
       "      <th>0</th>\n",
       "      <td>2992</td>\n",
       "      <td>1.00</td>\n",
       "      <td>5776</td>\n",
       "    </tr>\n",
       "    <tr>\n",
       "      <th>1</th>\n",
       "      <td>5146</td>\n",
       "      <td>1.00</td>\n",
       "      <td>6022</td>\n",
       "    </tr>\n",
       "    <tr>\n",
       "      <th>2</th>\n",
       "      <td>6892</td>\n",
       "      <td>1.00</td>\n",
       "      <td>10163</td>\n",
       "    </tr>\n",
       "    <tr>\n",
       "      <th>3</th>\n",
       "      <td>2992</td>\n",
       "      <td>0.00</td>\n",
       "      <td>8433</td>\n",
       "    </tr>\n",
       "    <tr>\n",
       "      <th>4</th>\n",
       "      <td>5146</td>\n",
       "      <td>0.02</td>\n",
       "      <td>41940</td>\n",
       "    </tr>\n",
       "  </tbody>\n",
       "</table>\n",
       "</div>"
      ],
      "text/plain": [
       "   user  time  track\n",
       "0  2992  1.00   5776\n",
       "1  5146  1.00   6022\n",
       "2  6892  1.00  10163\n",
       "3  2992  0.00   8433\n",
       "4  5146  0.02  41940"
      ]
     },
     "execution_count": 3,
     "metadata": {},
     "output_type": "execute_result"
    }
   ],
   "source": [
    "BOTIFY_DATA_DIR = \"/Users/n.anokhin/Projects/recsys-course/botify/data/\"\n",
    "\n",
    "data = pd.read_json(\"/Users/n.anokhin/Desktop/input.json\", lines=True)[[\"user\", \"time\", \"track\"]].copy()\n",
    "\n",
    "data.head()"
   ]
  },
  {
   "cell_type": "code",
   "execution_count": 4,
   "metadata": {
    "tags": []
   },
   "outputs": [
    {
     "data": {
      "text/html": [
       "<div>\n",
       "<style scoped>\n",
       "    .dataframe tbody tr th:only-of-type {\n",
       "        vertical-align: middle;\n",
       "    }\n",
       "\n",
       "    .dataframe tbody tr th {\n",
       "        vertical-align: top;\n",
       "    }\n",
       "\n",
       "    .dataframe thead th {\n",
       "        text-align: right;\n",
       "    }\n",
       "</style>\n",
       "<table border=\"1\" class=\"dataframe\">\n",
       "  <thead>\n",
       "    <tr style=\"text-align: right;\">\n",
       "      <th></th>\n",
       "      <th>user</th>\n",
       "      <th>time</th>\n",
       "      <th>track</th>\n",
       "      <th>normalized_time</th>\n",
       "    </tr>\n",
       "  </thead>\n",
       "  <tbody>\n",
       "    <tr>\n",
       "      <th>0</th>\n",
       "      <td>2992</td>\n",
       "      <td>1.00</td>\n",
       "      <td>5776</td>\n",
       "      <td>0.783750</td>\n",
       "    </tr>\n",
       "    <tr>\n",
       "      <th>1</th>\n",
       "      <td>5146</td>\n",
       "      <td>1.00</td>\n",
       "      <td>6022</td>\n",
       "      <td>0.728400</td>\n",
       "    </tr>\n",
       "    <tr>\n",
       "      <th>2</th>\n",
       "      <td>6892</td>\n",
       "      <td>1.00</td>\n",
       "      <td>10163</td>\n",
       "      <td>0.833333</td>\n",
       "    </tr>\n",
       "    <tr>\n",
       "      <th>3</th>\n",
       "      <td>2992</td>\n",
       "      <td>0.00</td>\n",
       "      <td>8433</td>\n",
       "      <td>-0.216250</td>\n",
       "    </tr>\n",
       "    <tr>\n",
       "      <th>4</th>\n",
       "      <td>5146</td>\n",
       "      <td>0.02</td>\n",
       "      <td>41940</td>\n",
       "      <td>-0.251600</td>\n",
       "    </tr>\n",
       "  </tbody>\n",
       "</table>\n",
       "</div>"
      ],
      "text/plain": [
       "   user  time  track  normalized_time\n",
       "0  2992  1.00   5776         0.783750\n",
       "1  5146  1.00   6022         0.728400\n",
       "2  6892  1.00  10163         0.833333\n",
       "3  2992  0.00   8433        -0.216250\n",
       "4  5146  0.02  41940        -0.251600"
      ]
     },
     "execution_count": 4,
     "metadata": {},
     "output_type": "execute_result"
    }
   ],
   "source": [
    "data[\"normalized_time\"] = data.groupby(\"user\")[\"time\"].transform(lambda time: time - time.mean())\n",
    "\n",
    "data.head()"
   ]
  },
  {
   "cell_type": "code",
   "execution_count": 21,
   "metadata": {
    "tags": []
   },
   "outputs": [
    {
     "name": "stdout",
     "output_type": "stream",
     "text": [
      "Interactions matrix: shape=(8759, 46209), sparsity=0.00036724390792474776\n"
     ]
    }
   ],
   "source": [
    "interactions = pd.pivot_table(data, values=\"normalized_time\", index=\"user\", columns=\"track\").fillna(0)\n",
    "\n",
    "print(f\"Interactions matrix: shape={interactions.shape}, sparsity={(interactions != 0).values.sum() / interactions.size}\")"
   ]
  },
  {
   "cell_type": "code",
   "execution_count": 22,
   "metadata": {
    "tags": []
   },
   "outputs": [
    {
     "name": "stdout",
     "output_type": "stream",
     "text": [
      "Mean positive neighbours per user: 40.980705559995435\n"
     ]
    }
   ],
   "source": [
    "similarity_matrix = cosine_similarity(interactions)\n",
    "np.fill_diagonal(similarity_matrix, 0)\n",
    "\n",
    "print(f\"Mean positive neighbours per user: {(similarity_matrix > 0).sum(axis=1).mean()}\")"
   ]
  },
  {
   "cell_type": "code",
   "execution_count": 23,
   "metadata": {
    "tags": []
   },
   "outputs": [
    {
     "name": "stdout",
     "output_type": "stream",
     "text": [
      "Mean negative neighbours per user: 21.3225254024432\n"
     ]
    }
   ],
   "source": [
    "print(f\"Mean negative neighbours per user: {(similarity_matrix < 0).sum(axis=1).mean()}\")"
   ]
  },
  {
   "cell_type": "code",
   "execution_count": 24,
   "metadata": {
    "tags": []
   },
   "outputs": [
    {
     "data": {
      "text/html": [
       "<div>\n",
       "<style scoped>\n",
       "    .dataframe tbody tr th:only-of-type {\n",
       "        vertical-align: middle;\n",
       "    }\n",
       "\n",
       "    .dataframe tbody tr th {\n",
       "        vertical-align: top;\n",
       "    }\n",
       "\n",
       "    .dataframe thead th {\n",
       "        text-align: right;\n",
       "    }\n",
       "</style>\n",
       "<table border=\"1\" class=\"dataframe\">\n",
       "  <thead>\n",
       "    <tr style=\"text-align: right;\">\n",
       "      <th>track</th>\n",
       "      <th>1</th>\n",
       "      <th>2</th>\n",
       "      <th>3</th>\n",
       "      <th>4</th>\n",
       "      <th>5</th>\n",
       "    </tr>\n",
       "    <tr>\n",
       "      <th>user</th>\n",
       "      <th></th>\n",
       "      <th></th>\n",
       "      <th></th>\n",
       "      <th></th>\n",
       "      <th></th>\n",
       "    </tr>\n",
       "  </thead>\n",
       "  <tbody>\n",
       "    <tr>\n",
       "      <th>0</th>\n",
       "      <td>0.0</td>\n",
       "      <td>0.0</td>\n",
       "      <td>0.0</td>\n",
       "      <td>0.0</td>\n",
       "      <td>0.000000</td>\n",
       "    </tr>\n",
       "    <tr>\n",
       "      <th>1</th>\n",
       "      <td>0.0</td>\n",
       "      <td>0.0</td>\n",
       "      <td>0.0</td>\n",
       "      <td>0.0</td>\n",
       "      <td>0.000000</td>\n",
       "    </tr>\n",
       "    <tr>\n",
       "      <th>2</th>\n",
       "      <td>0.0</td>\n",
       "      <td>0.0</td>\n",
       "      <td>0.0</td>\n",
       "      <td>0.0</td>\n",
       "      <td>0.000000</td>\n",
       "    </tr>\n",
       "    <tr>\n",
       "      <th>3</th>\n",
       "      <td>0.0</td>\n",
       "      <td>0.0</td>\n",
       "      <td>0.0</td>\n",
       "      <td>0.0</td>\n",
       "      <td>-0.055265</td>\n",
       "    </tr>\n",
       "    <tr>\n",
       "      <th>4</th>\n",
       "      <td>0.0</td>\n",
       "      <td>0.0</td>\n",
       "      <td>0.0</td>\n",
       "      <td>0.0</td>\n",
       "      <td>0.000000</td>\n",
       "    </tr>\n",
       "  </tbody>\n",
       "</table>\n",
       "</div>"
      ],
      "text/plain": [
       "track    1    2    3    4         5\n",
       "user                               \n",
       "0      0.0  0.0  0.0  0.0  0.000000\n",
       "1      0.0  0.0  0.0  0.0  0.000000\n",
       "2      0.0  0.0  0.0  0.0  0.000000\n",
       "3      0.0  0.0  0.0  0.0 -0.055265\n",
       "4      0.0  0.0  0.0  0.0  0.000000"
      ]
     },
     "execution_count": 24,
     "metadata": {},
     "output_type": "execute_result"
    }
   ],
   "source": [
    "# TODO: Compute proper user-based scores\n",
    "# TODO: expected size: observed users x observed tracks\n",
    "scores_matrix = np.matmul(similarity_matrix, interactions.values)\n",
    "\n",
    "scores = pd.DataFrame(\n",
    "    scores_matrix,\n",
    "    index=interactions.index,\n",
    "    columns=interactions.columns\n",
    ")\n",
    "\n",
    "scores[[1, 2, 3, 4, 5]].head()"
   ]
  },
  {
   "cell_type": "markdown",
   "metadata": {},
   "source": [
    "## Глянем на рекомендации"
   ]
  },
  {
   "cell_type": "code",
   "execution_count": 26,
   "metadata": {
    "tags": []
   },
   "outputs": [
    {
     "data": {
      "text/html": [
       "<div>\n",
       "<style scoped>\n",
       "    .dataframe tbody tr th:only-of-type {\n",
       "        vertical-align: middle;\n",
       "    }\n",
       "\n",
       "    .dataframe tbody tr th {\n",
       "        vertical-align: top;\n",
       "    }\n",
       "\n",
       "    .dataframe thead th {\n",
       "        text-align: right;\n",
       "    }\n",
       "</style>\n",
       "<table border=\"1\" class=\"dataframe\">\n",
       "  <thead>\n",
       "    <tr style=\"text-align: right;\">\n",
       "      <th></th>\n",
       "      <th>artist</th>\n",
       "      <th>title</th>\n",
       "    </tr>\n",
       "    <tr>\n",
       "      <th>track</th>\n",
       "      <th></th>\n",
       "      <th></th>\n",
       "    </tr>\n",
       "  </thead>\n",
       "  <tbody>\n",
       "    <tr>\n",
       "      <th>0</th>\n",
       "      <td>Jack Johnson</td>\n",
       "      <td>The Cove</td>\n",
       "    </tr>\n",
       "    <tr>\n",
       "      <th>1</th>\n",
       "      <td>Billy Preston</td>\n",
       "      <td>Nothing from Nothing</td>\n",
       "    </tr>\n",
       "    <tr>\n",
       "      <th>2</th>\n",
       "      <td>Paco De Lucia</td>\n",
       "      <td>Entre Dos Aguas</td>\n",
       "    </tr>\n",
       "    <tr>\n",
       "      <th>3</th>\n",
       "      <td>Josh Rouse</td>\n",
       "      <td>Under Cold Blue Stars</td>\n",
       "    </tr>\n",
       "    <tr>\n",
       "      <th>4</th>\n",
       "      <td>The Dead 60s</td>\n",
       "      <td>Riot Radio (Soundtrack Version)</td>\n",
       "    </tr>\n",
       "  </tbody>\n",
       "</table>\n",
       "</div>"
      ],
      "text/plain": [
       "              artist                            title\n",
       "track                                                \n",
       "0       Jack Johnson                         The Cove\n",
       "1      Billy Preston             Nothing from Nothing\n",
       "2      Paco De Lucia                  Entre Dos Aguas\n",
       "3         Josh Rouse            Under Cold Blue Stars\n",
       "4       The Dead 60s  Riot Radio (Soundtrack Version)"
      ]
     },
     "execution_count": 26,
     "metadata": {},
     "output_type": "execute_result"
    }
   ],
   "source": [
    "products = pd.read_json(BOTIFY_DATA_DIR + \"tracks.json\", lines=True).set_index(\"track\")\n",
    "products.head()"
   ]
  },
  {
   "cell_type": "code",
   "execution_count": 46,
   "metadata": {
    "tags": []
   },
   "outputs": [],
   "source": [
    "user = np.random.choice(scores.index)\n",
    "k = 10\n",
    "\n",
    "# data[data[\"user\"] == user]"
   ]
  },
  {
   "cell_type": "code",
   "execution_count": 47,
   "metadata": {
    "tags": []
   },
   "outputs": [
    {
     "data": {
      "text/html": [
       "<div>\n",
       "<style scoped>\n",
       "    .dataframe tbody tr th:only-of-type {\n",
       "        vertical-align: middle;\n",
       "    }\n",
       "\n",
       "    .dataframe tbody tr th {\n",
       "        vertical-align: top;\n",
       "    }\n",
       "\n",
       "    .dataframe thead th {\n",
       "        text-align: right;\n",
       "    }\n",
       "</style>\n",
       "<table border=\"1\" class=\"dataframe\">\n",
       "  <thead>\n",
       "    <tr style=\"text-align: right;\">\n",
       "      <th></th>\n",
       "      <th>user</th>\n",
       "      <th>time</th>\n",
       "      <th>track</th>\n",
       "      <th>normalized_time</th>\n",
       "    </tr>\n",
       "  </thead>\n",
       "  <tbody>\n",
       "    <tr>\n",
       "      <th>107149</th>\n",
       "      <td>9071</td>\n",
       "      <td>1.00</td>\n",
       "      <td>3918</td>\n",
       "      <td>0.828333</td>\n",
       "    </tr>\n",
       "    <tr>\n",
       "      <th>107152</th>\n",
       "      <td>9071</td>\n",
       "      <td>0.03</td>\n",
       "      <td>48975</td>\n",
       "      <td>-0.141667</td>\n",
       "    </tr>\n",
       "    <tr>\n",
       "      <th>107155</th>\n",
       "      <td>9071</td>\n",
       "      <td>0.00</td>\n",
       "      <td>46220</td>\n",
       "      <td>-0.171667</td>\n",
       "    </tr>\n",
       "    <tr>\n",
       "      <th>107157</th>\n",
       "      <td>9071</td>\n",
       "      <td>0.00</td>\n",
       "      <td>14204</td>\n",
       "      <td>-0.171667</td>\n",
       "    </tr>\n",
       "    <tr>\n",
       "      <th>107159</th>\n",
       "      <td>9071</td>\n",
       "      <td>0.00</td>\n",
       "      <td>5984</td>\n",
       "      <td>-0.171667</td>\n",
       "    </tr>\n",
       "    <tr>\n",
       "      <th>107161</th>\n",
       "      <td>9071</td>\n",
       "      <td>0.00</td>\n",
       "      <td>39056</td>\n",
       "      <td>-0.171667</td>\n",
       "    </tr>\n",
       "  </tbody>\n",
       "</table>\n",
       "</div>"
      ],
      "text/plain": [
       "        user  time  track  normalized_time\n",
       "107149  9071  1.00   3918         0.828333\n",
       "107152  9071  0.03  48975        -0.141667\n",
       "107155  9071  0.00  46220        -0.171667\n",
       "107157  9071  0.00  14204        -0.171667\n",
       "107159  9071  0.00   5984        -0.171667\n",
       "107161  9071  0.00  39056        -0.171667"
      ]
     },
     "execution_count": 47,
     "metadata": {},
     "output_type": "execute_result"
    }
   ],
   "source": [
    "data[data[\"user\"] == user]"
   ]
  },
  {
   "cell_type": "code",
   "execution_count": 49,
   "metadata": {
    "tags": []
   },
   "outputs": [
    {
     "data": {
      "text/html": [
       "<div>\n",
       "<style scoped>\n",
       "    .dataframe tbody tr th:only-of-type {\n",
       "        vertical-align: middle;\n",
       "    }\n",
       "\n",
       "    .dataframe tbody tr th {\n",
       "        vertical-align: top;\n",
       "    }\n",
       "\n",
       "    .dataframe thead th {\n",
       "        text-align: right;\n",
       "    }\n",
       "</style>\n",
       "<table border=\"1\" class=\"dataframe\">\n",
       "  <thead>\n",
       "    <tr style=\"text-align: right;\">\n",
       "      <th></th>\n",
       "      <th>score</th>\n",
       "      <th>artist</th>\n",
       "      <th>title</th>\n",
       "    </tr>\n",
       "    <tr>\n",
       "      <th>track</th>\n",
       "      <th></th>\n",
       "      <th></th>\n",
       "      <th></th>\n",
       "    </tr>\n",
       "  </thead>\n",
       "  <tbody>\n",
       "    <tr>\n",
       "      <th>3918</th>\n",
       "      <td>2.474152</td>\n",
       "      <td>Mike And The Mechanics</td>\n",
       "      <td>A Beggar On A Beach Of Gold</td>\n",
       "    </tr>\n",
       "    <tr>\n",
       "      <th>38988</th>\n",
       "      <td>0.456922</td>\n",
       "      <td>Cabaret Voltaire</td>\n",
       "      <td>Do The Mussolini (Head Kick) They Kill Him Dub</td>\n",
       "    </tr>\n",
       "    <tr>\n",
       "      <th>38763</th>\n",
       "      <td>0.355865</td>\n",
       "      <td>Hole</td>\n",
       "      <td>Rock Star</td>\n",
       "    </tr>\n",
       "    <tr>\n",
       "      <th>14754</th>\n",
       "      <td>0.348692</td>\n",
       "      <td>Mogwai</td>\n",
       "      <td>Glasgow Mega-Snake</td>\n",
       "    </tr>\n",
       "    <tr>\n",
       "      <th>14401</th>\n",
       "      <td>0.327570</td>\n",
       "      <td>Katie Melua</td>\n",
       "      <td>On The Road Again</td>\n",
       "    </tr>\n",
       "    <tr>\n",
       "      <th>3590</th>\n",
       "      <td>0.313707</td>\n",
       "      <td>The Ruts</td>\n",
       "      <td>West One (Shine On Me)</td>\n",
       "    </tr>\n",
       "    <tr>\n",
       "      <th>1487</th>\n",
       "      <td>0.297004</td>\n",
       "      <td>Justin Bieber</td>\n",
       "      <td>One Time</td>\n",
       "    </tr>\n",
       "    <tr>\n",
       "      <th>1495</th>\n",
       "      <td>0.297004</td>\n",
       "      <td>Justin Bieber</td>\n",
       "      <td>U Smile</td>\n",
       "    </tr>\n",
       "    <tr>\n",
       "      <th>8262</th>\n",
       "      <td>0.297004</td>\n",
       "      <td>The Prodigy</td>\n",
       "      <td>The Big Gundown</td>\n",
       "    </tr>\n",
       "    <tr>\n",
       "      <th>5683</th>\n",
       "      <td>0.277812</td>\n",
       "      <td>Echo And The Bunnymen</td>\n",
       "      <td>Zimbo (Live)</td>\n",
       "    </tr>\n",
       "  </tbody>\n",
       "</table>\n",
       "</div>"
      ],
      "text/plain": [
       "          score                  artist  \\\n",
       "track                                     \n",
       "3918   2.474152  Mike And The Mechanics   \n",
       "38988  0.456922        Cabaret Voltaire   \n",
       "38763  0.355865                    Hole   \n",
       "14754  0.348692                  Mogwai   \n",
       "14401  0.327570             Katie Melua   \n",
       "3590   0.313707                The Ruts   \n",
       "1487   0.297004           Justin Bieber   \n",
       "1495   0.297004           Justin Bieber   \n",
       "8262   0.297004             The Prodigy   \n",
       "5683   0.277812   Echo And The Bunnymen   \n",
       "\n",
       "                                                title  \n",
       "track                                                  \n",
       "3918                      A Beggar On A Beach Of Gold  \n",
       "38988  Do The Mussolini (Head Kick) They Kill Him Dub  \n",
       "38763                                       Rock Star  \n",
       "14754                              Glasgow Mega-Snake  \n",
       "14401                               On The Road Again  \n",
       "3590                           West One (Shine On Me)  \n",
       "1487                                         One Time  \n",
       "1495                                          U Smile  \n",
       "8262                                  The Big Gundown  \n",
       "5683                                     Zimbo (Live)  "
      ]
     },
     "execution_count": 49,
     "metadata": {},
     "output_type": "execute_result"
    }
   ],
   "source": [
    "user_scores = pd.merge(\n",
    "    scores.loc[user].sort_values(ascending=False)[:k].to_frame(\"score\"),\n",
    "    products, \n",
    "    left_index=True, \n",
    "    right_index=True,\n",
    "    how=\"inner\"\n",
    ")\n",
    "\n",
    "user_scores"
   ]
  },
  {
   "cell_type": "code",
   "execution_count": 48,
   "metadata": {
    "tags": []
   },
   "outputs": [
    {
     "data": {
      "text/html": [
       "<div>\n",
       "<style scoped>\n",
       "    .dataframe tbody tr th:only-of-type {\n",
       "        vertical-align: middle;\n",
       "    }\n",
       "\n",
       "    .dataframe tbody tr th {\n",
       "        vertical-align: top;\n",
       "    }\n",
       "\n",
       "    .dataframe thead th {\n",
       "        text-align: right;\n",
       "    }\n",
       "</style>\n",
       "<table border=\"1\" class=\"dataframe\">\n",
       "  <thead>\n",
       "    <tr style=\"text-align: right;\">\n",
       "      <th></th>\n",
       "      <th>time</th>\n",
       "      <th>artist</th>\n",
       "      <th>title</th>\n",
       "    </tr>\n",
       "    <tr>\n",
       "      <th>track</th>\n",
       "      <th></th>\n",
       "      <th></th>\n",
       "      <th></th>\n",
       "    </tr>\n",
       "  </thead>\n",
       "  <tbody>\n",
       "    <tr>\n",
       "      <th>3918</th>\n",
       "      <td>0.828333</td>\n",
       "      <td>Mike And The Mechanics</td>\n",
       "      <td>A Beggar On A Beach Of Gold</td>\n",
       "    </tr>\n",
       "    <tr>\n",
       "      <th>48975</th>\n",
       "      <td>-0.141667</td>\n",
       "      <td>Blitzen Trapper</td>\n",
       "      <td>Summer Town (Album)</td>\n",
       "    </tr>\n",
       "    <tr>\n",
       "      <th>46220</th>\n",
       "      <td>-0.171667</td>\n",
       "      <td>Third Day</td>\n",
       "      <td>Believe</td>\n",
       "    </tr>\n",
       "    <tr>\n",
       "      <th>14204</th>\n",
       "      <td>-0.171667</td>\n",
       "      <td>Valley of the Giants</td>\n",
       "      <td>Bala Bay Inn</td>\n",
       "    </tr>\n",
       "    <tr>\n",
       "      <th>39056</th>\n",
       "      <td>-0.171667</td>\n",
       "      <td>Marshall Jefferson</td>\n",
       "      <td>Move Your Body</td>\n",
       "    </tr>\n",
       "    <tr>\n",
       "      <th>5984</th>\n",
       "      <td>-0.171667</td>\n",
       "      <td>Bad Company</td>\n",
       "      <td>Gone_ Gone_ Gone</td>\n",
       "    </tr>\n",
       "  </tbody>\n",
       "</table>\n",
       "</div>"
      ],
      "text/plain": [
       "           time                  artist                        title\n",
       "track                                                               \n",
       "3918   0.828333  Mike And The Mechanics  A Beggar On A Beach Of Gold\n",
       "48975 -0.141667         Blitzen Trapper          Summer Town (Album)\n",
       "46220 -0.171667               Third Day                      Believe\n",
       "14204 -0.171667    Valley of the Giants                 Bala Bay Inn\n",
       "39056 -0.171667      Marshall Jefferson               Move Your Body\n",
       "5984  -0.171667             Bad Company             Gone_ Gone_ Gone"
      ]
     },
     "execution_count": 48,
     "metadata": {},
     "output_type": "execute_result"
    }
   ],
   "source": [
    "user_interactions = pd.merge(\n",
    "    interactions.loc[user].sort_values(ascending=False).to_frame(\"time\"),\n",
    "    products, \n",
    "    left_index=True, \n",
    "    right_index=True, \n",
    "    how=\"inner\"\n",
    ")\n",
    "\n",
    "user_interactions[user_interactions[\"time\"] != 0]"
   ]
  },
  {
   "cell_type": "markdown",
   "metadata": {
    "tags": []
   },
   "source": [
    "## Подготавливаем рекомендации для продакшена"
   ]
  },
  {
   "cell_type": "code",
   "execution_count": null,
   "metadata": {
    "tags": []
   },
   "outputs": [],
   "source": [
    "def recommend(user_id, scores, k):\n",
    "    return scores.loc[user_id].sort_values(ascending=False)[:k].index.tolist()"
   ]
  },
  {
   "cell_type": "code",
   "execution_count": null,
   "metadata": {
    "tags": []
   },
   "outputs": [],
   "source": [
    "users = data[\"user\"].unique()\n",
    "\n",
    "with open(BOTIFY_DATA_DIR + \"recommendations_ub.json\", \"w\") as rf:\n",
    "    for user in tqdm.tqdm(users):\n",
    "        recommendation = {\n",
    "            \"user\": int(user),\n",
    "            \"tracks\": recommend(user, scores, 100)\n",
    "        }\n",
    "        rf.write(json.dumps(recommendation) + \"\\n\")"
   ]
  },
  {
   "cell_type": "code",
   "execution_count": null,
   "metadata": {
    "tags": []
   },
   "outputs": [],
   "source": []
  }
 ],
 "metadata": {
  "kernelspec": {
   "display_name": "Python 3 (ipykernel)",
   "language": "python",
   "name": "python3"
  },
  "language_info": {
   "codemirror_mode": {
    "name": "ipython",
    "version": 3
   },
   "file_extension": ".py",
   "mimetype": "text/x-python",
   "name": "python",
   "nbconvert_exporter": "python",
   "pygments_lexer": "ipython3",
   "version": "3.8.0"
  }
 },
 "nbformat": 4,
 "nbformat_minor": 4
}
