{
 "cells": [
  {
   "cell_type": "code",
   "execution_count": 1,
   "metadata": {},
   "outputs": [
    {
     "name": "stderr",
     "output_type": "stream",
     "text": [
      "/Users/n.anokhin/Projects/virtualenv/recsys-course/lib/python3.8/site-packages/lightfm/_lightfm_fast.py:9: UserWarning: LightFM was compiled without OpenMP support. Only a single thread will be used.\n",
      "  warnings.warn(\n"
     ]
    }
   ],
   "source": [
    "import pandas as pd\n",
    "import numpy as np\n",
    "import scipy.stats as ss\n",
    "\n",
    "import lightfm\n",
    "import lightfm.data as ld\n",
    "import lightfm.evaluation as lv\n",
    "\n",
    "import tqdm\n",
    "import json\n",
    "import optuna\n",
    "\n",
    "import tensorboardX as tb\n",
    "\n",
    "import matplotlib.pyplot as pl\n",
    "import seaborn as sns\n",
    "\n",
    "np.random.seed(31337)"
   ]
  },
  {
   "cell_type": "code",
   "execution_count": 2,
   "metadata": {},
   "outputs": [],
   "source": [
    "DATA_DIR = \"/Users/n.anokhin/Desktop/\""
   ]
  },
  {
   "cell_type": "code",
   "execution_count": 3,
   "metadata": {},
   "outputs": [],
   "source": [
    "data = pd.read_json(DATA_DIR + \"input.json\", lines=True).drop_duplicates(subset=[\"user\", \"track\"])"
   ]
  },
  {
   "cell_type": "code",
   "execution_count": 6,
   "metadata": {},
   "outputs": [],
   "source": [
    "positives = data[data[\"time\"] > 0.8].copy()\n",
    "positives[\"test\"] = np.random.random(len(positives)) >= 0.7"
   ]
  },
  {
   "cell_type": "code",
   "execution_count": 7,
   "metadata": {},
   "outputs": [],
   "source": [
    "user_counts = positives[~positives[\"test\"]].groupby(\"user\").size()\n",
    "users = set(user_counts[user_counts >= 5].index.values)"
   ]
  },
  {
   "cell_type": "code",
   "execution_count": 8,
   "metadata": {},
   "outputs": [],
   "source": [
    "track_counts = positives[~positives[\"test\"]].groupby(\"track\").size()\n",
    "tracks = set(track_counts[track_counts >= 5].index.values)"
   ]
  },
  {
   "cell_type": "markdown",
   "metadata": {},
   "source": [
    "## Train LightFM"
   ]
  },
  {
   "cell_type": "code",
   "execution_count": 13,
   "metadata": {},
   "outputs": [
    {
     "data": {
      "text/plain": [
       "(44144, 15787)"
      ]
     },
     "execution_count": 13,
     "metadata": {},
     "output_type": "execute_result"
    }
   ],
   "source": [
    "train_data = positives[~positives[\"test\"] & positives[\"user\"].isin(users) & positives[\"track\"].isin(tracks)]\n",
    "test_data = positives[positives[\"test\"] & positives[\"user\"].isin(users) & positives[\"track\"].isin(tracks)]\n",
    "\n",
    "len(train_data), len(test_data)"
   ]
  },
  {
   "cell_type": "code",
   "execution_count": 14,
   "metadata": {},
   "outputs": [],
   "source": [
    "dataset = ld.Dataset()\n",
    "dataset.fit(users, tracks)"
   ]
  },
  {
   "cell_type": "code",
   "execution_count": 15,
   "metadata": {},
   "outputs": [],
   "source": [
    "train_interactions, _ = dataset.build_interactions(train_data[[\"user\", \"track\"]].itertuples(index=False, name=None))\n",
    "test_interactions, _ = dataset.build_interactions(test_data[[\"user\", \"track\"]].itertuples(index=False, name=None))"
   ]
  },
  {
   "cell_type": "code",
   "execution_count": 36,
   "metadata": {},
   "outputs": [],
   "source": [
    "def fit_model(\n",
    "    epochs=1, \n",
    "    at=10,\n",
    "    loss=\"warp\",\n",
    "    no_components=30,\n",
    "    learning_rate=0.01, \n",
    "    max_sampled=10,\n",
    "    user_alpha=0.0, \n",
    "    item_alpha=0.0, \n",
    "    threads=30, \n",
    "    verbose=False,\n",
    "    patience=3,\n",
    "    epsilon=1e-6,\n",
    "):\n",
    "    model = lightfm.LightFM(\n",
    "        no_components=no_components,\n",
    "        loss=loss,\n",
    "        learning_rate=learning_rate,\n",
    "        max_sampled=max_sampled,\n",
    "        user_alpha=user_alpha,\n",
    "        item_alpha=item_alpha,\n",
    "    )\n",
    "\n",
    "    precisions_at = []\n",
    "    \n",
    "    for epoch in range(epochs):\n",
    "        model = model.fit_partial(train_interactions, num_threads=threads)\n",
    "        \n",
    "        precision_at = lv.precision_at_k(model, test_interactions, train_interactions=train_interactions, k=at, num_threads=threads)\n",
    "        \n",
    "        if verbose:\n",
    "            print(f\"{epoch}:\\t{np.mean(precision_at)} +/- {ss.sem(precision_at) * 1.96}\")\n",
    "            \n",
    "        precisions_at.append(np.mean(precision_at))\n",
    "            \n",
    "        if epoch > patience and all([precisions_at[-j] - precisions_at[-patience-1] < epsilon for j in range(1, patience + 1)]):\n",
    "            if verbose:\n",
    "                print(\"Early stopiing!\")\n",
    "            break\n",
    "        \n",
    "    else:\n",
    "        if verbose:\n",
    "            print(\"No early stopiing happened: increase epochs maybe?\")\n",
    "        \n",
    "    return model, precisions_at\n",
    "\n",
    "\n",
    "def objective(trial):\n",
    "    loss = trial.suggest_categorical(\"loss\", [\"warp\", \"bpr\"])\n",
    "    no_components = trial.suggest_categorical(\"no_components\", [10, 30, 50])\n",
    "    learning_rate = trial.suggest_categorical(\"learning_rate\", [0.0001, 0.001, 0.01])\n",
    "    max_sampled = trial.suggest_categorical(\"max_sampled\", [10, 20, 50, 100])\n",
    "    user_alpha = trial.suggest_categorical(\"user_alpha\", [0.0, 0.0001])\n",
    "    item_alpha = trial.suggest_categorical(\"item_alpha\", [0.0, 0.0001])\n",
    "    \n",
    "    model, precisions_at = fit_model(\n",
    "        epochs=5, \n",
    "        at=10,\n",
    "        loss=loss,\n",
    "        no_components=no_components, \n",
    "        learning_rate=learning_rate, \n",
    "        max_sampled=max_sampled, \n",
    "        user_alpha=user_alpha, \n",
    "        item_alpha=item_alpha,\n",
    "    )\n",
    "    \n",
    "    return precisions_at[-1]"
   ]
  },
  {
   "cell_type": "code",
   "execution_count": 32,
   "metadata": {},
   "outputs": [
    {
     "name": "stderr",
     "output_type": "stream",
     "text": [
      "\u001b[32m[I 2023-03-22 18:49:45,437]\u001b[0m A new study created in memory with name: no-name-0296259b-5415-43a7-826a-62abade10163\u001b[0m\n",
      "\u001b[32m[I 2023-03-22 18:49:51,764]\u001b[0m Trial 0 finished with value: 0.0009309791494160891 and parameters: {'loss': 'bpr', 'no_components': 30, 'learning_rate': 0.01, 'max_sampled': 100, 'user_alpha': 0.0, 'item_alpha': 0.0001}. Best is trial 0 with value: 0.0009309791494160891.\u001b[0m\n",
      "\u001b[32m[I 2023-03-22 18:49:58,367]\u001b[0m Trial 1 finished with value: 0.0012359550455585122 and parameters: {'loss': 'bpr', 'no_components': 50, 'learning_rate': 0.0001, 'max_sampled': 20, 'user_alpha': 0.0, 'item_alpha': 0.0001}. Best is trial 1 with value: 0.0012359550455585122.\u001b[0m\n",
      "\u001b[32m[I 2023-03-22 18:50:04,801]\u001b[0m Trial 2 finished with value: 0.010016052052378654 and parameters: {'loss': 'warp', 'no_components': 50, 'learning_rate': 0.0001, 'max_sampled': 50, 'user_alpha': 0.0, 'item_alpha': 0.0}. Best is trial 2 with value: 0.010016052052378654.\u001b[0m\n",
      "\u001b[32m[I 2023-03-22 18:50:11,143]\u001b[0m Trial 3 finished with value: 0.010048153810203075 and parameters: {'loss': 'warp', 'no_components': 50, 'learning_rate': 0.0001, 'max_sampled': 50, 'user_alpha': 0.0, 'item_alpha': 0.0}. Best is trial 3 with value: 0.010048153810203075.\u001b[0m\n",
      "\u001b[32m[I 2023-03-22 18:50:16,369]\u001b[0m Trial 4 finished with value: 0.001508828136138618 and parameters: {'loss': 'bpr', 'no_components': 10, 'learning_rate': 0.01, 'max_sampled': 100, 'user_alpha': 0.0001, 'item_alpha': 0.0001}. Best is trial 3 with value: 0.010048153810203075.\u001b[0m\n",
      "\u001b[32m[I 2023-03-22 18:50:22,712]\u001b[0m Trial 5 finished with value: 0.0006260032532736659 and parameters: {'loss': 'bpr', 'no_components': 30, 'learning_rate': 0.01, 'max_sampled': 20, 'user_alpha': 0.0, 'item_alpha': 0.0}. Best is trial 3 with value: 0.010048153810203075.\u001b[0m\n",
      "\u001b[32m[I 2023-03-22 18:50:29,079]\u001b[0m Trial 6 finished with value: 0.012006420642137527 and parameters: {'loss': 'warp', 'no_components': 50, 'learning_rate': 0.01, 'max_sampled': 50, 'user_alpha': 0.0, 'item_alpha': 0.0}. Best is trial 6 with value: 0.012006420642137527.\u001b[0m\n",
      "\u001b[32m[I 2023-03-22 18:50:35,396]\u001b[0m Trial 7 finished with value: 0.01237560249865055 and parameters: {'loss': 'warp', 'no_components': 50, 'learning_rate': 0.01, 'max_sampled': 50, 'user_alpha': 0.0, 'item_alpha': 0.0001}. Best is trial 7 with value: 0.01237560249865055.\u001b[0m\n",
      "\u001b[32m[I 2023-03-22 18:50:40,660]\u001b[0m Trial 8 finished with value: 0.0005939005059190094 and parameters: {'loss': 'bpr', 'no_components': 10, 'learning_rate': 0.01, 'max_sampled': 100, 'user_alpha': 0.0001, 'item_alpha': 0.0001}. Best is trial 7 with value: 0.01237560249865055.\u001b[0m\n",
      "\u001b[32m[I 2023-03-22 18:50:47,198]\u001b[0m Trial 9 finished with value: 0.0011556982062757015 and parameters: {'loss': 'bpr', 'no_components': 50, 'learning_rate': 0.0001, 'max_sampled': 50, 'user_alpha': 0.0001, 'item_alpha': 0.0}. Best is trial 7 with value: 0.01237560249865055.\u001b[0m\n",
      "\u001b[32m[I 2023-03-22 18:50:52,522]\u001b[0m Trial 10 finished with value: 0.010353130288422108 and parameters: {'loss': 'warp', 'no_components': 10, 'learning_rate': 0.001, 'max_sampled': 10, 'user_alpha': 0.0001, 'item_alpha': 0.0001}. Best is trial 7 with value: 0.01237560249865055.\u001b[0m\n",
      "\u001b[32m[I 2023-03-22 18:50:59,326]\u001b[0m Trial 11 finished with value: 0.011508828960359097 and parameters: {'loss': 'warp', 'no_components': 50, 'learning_rate': 0.01, 'max_sampled': 50, 'user_alpha': 0.0, 'item_alpha': 0.0}. Best is trial 7 with value: 0.01237560249865055.\u001b[0m\n",
      "\u001b[32m[I 2023-03-22 18:51:06,184]\u001b[0m Trial 12 finished with value: 0.01048154104501009 and parameters: {'loss': 'warp', 'no_components': 50, 'learning_rate': 0.001, 'max_sampled': 50, 'user_alpha': 0.0, 'item_alpha': 0.0001}. Best is trial 7 with value: 0.01237560249865055.\u001b[0m\n",
      "\u001b[32m[I 2023-03-22 18:51:13,103]\u001b[0m Trial 13 finished with value: 0.01213483139872551 and parameters: {'loss': 'warp', 'no_components': 50, 'learning_rate': 0.01, 'max_sampled': 10, 'user_alpha': 0.0, 'item_alpha': 0.0}. Best is trial 7 with value: 0.01237560249865055.\u001b[0m\n",
      "\u001b[32m[I 2023-03-22 18:51:20,089]\u001b[0m Trial 14 finished with value: 0.012471910566091537 and parameters: {'loss': 'warp', 'no_components': 50, 'learning_rate': 0.01, 'max_sampled': 10, 'user_alpha': 0.0, 'item_alpha': 0.0001}. Best is trial 14 with value: 0.012471910566091537.\u001b[0m\n",
      "\u001b[32m[I 2023-03-22 18:51:26,486]\u001b[0m Trial 15 finished with value: 0.01126805879175663 and parameters: {'loss': 'warp', 'no_components': 30, 'learning_rate': 0.01, 'max_sampled': 10, 'user_alpha': 0.0, 'item_alpha': 0.0001}. Best is trial 14 with value: 0.012471910566091537.\u001b[0m\n",
      "\u001b[32m[I 2023-03-22 18:51:33,134]\u001b[0m Trial 16 finished with value: 0.010449438355863094 and parameters: {'loss': 'warp', 'no_components': 50, 'learning_rate': 0.001, 'max_sampled': 10, 'user_alpha': 0.0, 'item_alpha': 0.0001}. Best is trial 14 with value: 0.012471910566091537.\u001b[0m\n",
      "\u001b[32m[I 2023-03-22 18:51:40,004]\u001b[0m Trial 17 finished with value: 0.011894060298800468 and parameters: {'loss': 'warp', 'no_components': 50, 'learning_rate': 0.01, 'max_sampled': 10, 'user_alpha': 0.0, 'item_alpha': 0.0001}. Best is trial 14 with value: 0.012471910566091537.\u001b[0m\n",
      "\u001b[32m[I 2023-03-22 18:51:45,264]\u001b[0m Trial 18 finished with value: 0.010385232046246529 and parameters: {'loss': 'warp', 'no_components': 10, 'learning_rate': 0.01, 'max_sampled': 20, 'user_alpha': 0.0001, 'item_alpha': 0.0001}. Best is trial 14 with value: 0.012471910566091537.\u001b[0m\n",
      "\u001b[32m[I 2023-03-22 18:51:51,824]\u001b[0m Trial 19 finished with value: 0.010353130288422108 and parameters: {'loss': 'warp', 'no_components': 30, 'learning_rate': 0.001, 'max_sampled': 10, 'user_alpha': 0.0, 'item_alpha': 0.0001}. Best is trial 14 with value: 0.012471910566091537.\u001b[0m\n",
      "\u001b[32m[I 2023-03-22 18:51:58,866]\u001b[0m Trial 20 finished with value: 0.011797753162682056 and parameters: {'loss': 'warp', 'no_components': 50, 'learning_rate': 0.01, 'max_sampled': 10, 'user_alpha': 0.0, 'item_alpha': 0.0001}. Best is trial 14 with value: 0.012471910566091537.\u001b[0m\n",
      "\u001b[32m[I 2023-03-22 18:52:06,026]\u001b[0m Trial 21 finished with value: 0.0120224729180336 and parameters: {'loss': 'warp', 'no_components': 50, 'learning_rate': 0.01, 'max_sampled': 10, 'user_alpha': 0.0, 'item_alpha': 0.0}. Best is trial 14 with value: 0.012471910566091537.\u001b[0m\n",
      "\u001b[32m[I 2023-03-22 18:52:12,765]\u001b[0m Trial 22 finished with value: 0.011878009885549545 and parameters: {'loss': 'warp', 'no_components': 50, 'learning_rate': 0.01, 'max_sampled': 10, 'user_alpha': 0.0, 'item_alpha': 0.0}. Best is trial 14 with value: 0.012471910566091537.\u001b[0m\n",
      "\u001b[32m[I 2023-03-22 18:52:19,484]\u001b[0m Trial 23 finished with value: 0.011958266608417034 and parameters: {'loss': 'warp', 'no_components': 50, 'learning_rate': 0.01, 'max_sampled': 10, 'user_alpha': 0.0, 'item_alpha': 0.0}. Best is trial 14 with value: 0.012471910566091537.\u001b[0m\n",
      "\u001b[32m[I 2023-03-22 18:52:25,839]\u001b[0m Trial 24 finished with value: 0.012343499809503555 and parameters: {'loss': 'warp', 'no_components': 50, 'learning_rate': 0.01, 'max_sampled': 10, 'user_alpha': 0.0, 'item_alpha': 0.0001}. Best is trial 14 with value: 0.012471910566091537.\u001b[0m\n",
      "\u001b[32m[I 2023-03-22 18:52:32,150]\u001b[0m Trial 25 finished with value: 0.012263242155313492 and parameters: {'loss': 'warp', 'no_components': 50, 'learning_rate': 0.01, 'max_sampled': 50, 'user_alpha': 0.0, 'item_alpha': 0.0001}. Best is trial 14 with value: 0.012471910566091537.\u001b[0m\n",
      "\u001b[32m[I 2023-03-22 18:52:38,600]\u001b[0m Trial 26 finished with value: 0.012359550222754478 and parameters: {'loss': 'warp', 'no_components': 50, 'learning_rate': 0.01, 'max_sampled': 20, 'user_alpha': 0.0001, 'item_alpha': 0.0001}. Best is trial 14 with value: 0.012471910566091537.\u001b[0m\n",
      "\u001b[32m[I 2023-03-22 18:52:44,898]\u001b[0m Trial 27 finished with value: 0.011910111643373966 and parameters: {'loss': 'warp', 'no_components': 50, 'learning_rate': 0.01, 'max_sampled': 20, 'user_alpha': 0.0001, 'item_alpha': 0.0001}. Best is trial 14 with value: 0.012471910566091537.\u001b[0m\n",
      "\u001b[32m[I 2023-03-22 18:52:50,204]\u001b[0m Trial 28 finished with value: 0.010208668187260628 and parameters: {'loss': 'warp', 'no_components': 10, 'learning_rate': 0.001, 'max_sampled': 20, 'user_alpha': 0.0001, 'item_alpha': 0.0001}. Best is trial 14 with value: 0.012471910566091537.\u001b[0m\n",
      "\u001b[32m[I 2023-03-22 18:52:57,238]\u001b[0m Trial 29 finished with value: 0.0006581060006283224 and parameters: {'loss': 'bpr', 'no_components': 30, 'learning_rate': 0.0001, 'max_sampled': 100, 'user_alpha': 0.0001, 'item_alpha': 0.0001}. Best is trial 14 with value: 0.012471910566091537.\u001b[0m\n"
     ]
    }
   ],
   "source": [
    "study = optuna.create_study(direction=\"maximize\")\n",
    "study.optimize(objective, n_trials=30)\n",
    "best_params = study.best_params"
   ]
  },
  {
   "cell_type": "code",
   "execution_count": 33,
   "metadata": {},
   "outputs": [
    {
     "data": {
      "text/plain": [
       "{'loss': 'warp',\n",
       " 'no_components': 50,\n",
       " 'learning_rate': 0.01,\n",
       " 'max_sampled': 10,\n",
       " 'user_alpha': 0.0,\n",
       " 'item_alpha': 0.0001}"
      ]
     },
     "execution_count": 33,
     "metadata": {},
     "output_type": "execute_result"
    }
   ],
   "source": [
    "best_params"
   ]
  },
  {
   "cell_type": "code",
   "execution_count": 37,
   "metadata": {
    "tags": []
   },
   "outputs": [
    {
     "name": "stdout",
     "output_type": "stream",
     "text": [
      "0:\t0.010465488769114017 +/- 0.0009171752287156609\n",
      "1:\t0.010449439287185669 +/- 0.000912418822883755\n",
      "2:\t0.010465490631759167 +/- 0.0009095885870390506\n",
      "3:\t0.010979133658111095 +/- 0.0009506378762990051\n",
      "4:\t0.01173354871571064 +/- 0.000988579410265518\n",
      "5:\t0.012648475356400013 +/- 0.0010379660313109167\n",
      "6:\t0.013483146205544472 +/- 0.0010820511983270897\n",
      "7:\t0.014269663020968437 +/- 0.0011230832813812226\n",
      "8:\t0.01510433480143547 +/- 0.0011581142838758632\n",
      "9:\t0.015890851616859436 +/- 0.001194226594649267\n",
      "10:\t0.01661316119134426 +/- 0.001229504311933835\n",
      "11:\t0.017223114147782326 +/- 0.0012467513131145021\n",
      "12:\t0.01772070676088333 +/- 0.001271970985524973\n",
      "13:\t0.018105939030647278 +/- 0.0012794985155590022\n",
      "14:\t0.018491173163056374 +/- 0.0012861414060969403\n",
      "15:\t0.018844302743673325 +/- 0.0013013629778342408\n",
      "16:\t0.019181380048394203 +/- 0.0013047870127927599\n",
      "17:\t0.019309792667627335 +/- 0.001302858900169417\n",
      "18:\t0.01963081955909729 +/- 0.0013074900522234594\n",
      "19:\t0.02003210410475731 +/- 0.0013222031158241906\n",
      "20:\t0.0202728733420372 +/- 0.0013248039355912725\n",
      "21:\t0.02096308209002018 +/- 0.0013467654371670862\n",
      "22:\t0.021284110844135284 +/- 0.0013553931468023922\n",
      "23:\t0.02166934125125408 +/- 0.0013661928161499983\n",
      "24:\t0.021878013387322426 +/- 0.0013724602228737948\n",
      "25:\t0.022311396896839142 +/- 0.0013843349100593255\n",
      "26:\t0.022632423788309097 +/- 0.0013896918679782986\n",
      "27:\t0.02282504178583622 +/- 0.0013920209962050665\n",
      "28:\t0.023081863299012184 +/- 0.001400760268658765\n",
      "29:\t0.023210274055600166 +/- 0.0014001581439614882\n",
      "30:\t0.023531300947070122 +/- 0.0014151555724906924\n",
      "31:\t0.023884430527687073 +/- 0.0014261542232830427\n",
      "32:\t0.024060994386672974 +/- 0.0014274469088752604\n",
      "33:\t0.02428571507334709 +/- 0.0014313359739233796\n",
      "34:\t0.024317817762494087 +/- 0.0014268430265548082\n",
      "35:\t0.024478331208229065 +/- 0.001431387222514913\n",
      "36:\t0.024703051894903183 +/- 0.0014414198281062097\n",
      "37:\t0.024895668029785156 +/- 0.0014428092754795536\n",
      "38:\t0.024959871545433998 +/- 0.0014414383294027921\n",
      "39:\t0.025232743471860886 +/- 0.0014470819649123107\n",
      "40:\t0.025296950712800026 +/- 0.0014470745643936774\n",
      "41:\t0.02544141188263893 +/- 0.0014513211669982533\n",
      "42:\t0.02555377408862114 +/- 0.001456574332643399\n",
      "43:\t0.02561797760426998 +/- 0.0014565583290218548\n",
      "44:\t0.02590690366923809 +/- 0.0014568047662923335\n",
      "45:\t0.026227930560708046 +/- 0.0014627632013632028\n",
      "46:\t0.026292137801647186 +/- 0.0014620521965355384\n",
      "47:\t0.02670946903526783 +/- 0.0014749343718264678\n",
      "48:\t0.026869982481002808 +/- 0.0014778316748712834\n",
      "49:\t0.02701444923877716 +/- 0.0014798902216355328\n",
      "50:\t0.02723916433751583 +/- 0.0014786871748252571\n",
      "51:\t0.027383629232645035 +/- 0.0014820587586079647\n",
      "52:\t0.027495987713336945 +/- 0.0014837805817744128\n",
      "53:\t0.027672551572322845 +/- 0.0014860910236916326\n",
      "54:\t0.027897272258996964 +/- 0.0014908197700851476\n",
      "55:\t0.028025683015584946 +/- 0.0014946416754266726\n",
      "56:\t0.028186196461319923 +/- 0.001498074776020517\n",
      "57:\t0.028234349563717842 +/- 0.0014978458224753088\n",
      "58:\t0.028378812596201897 +/- 0.0014984752365850447\n",
      "59:\t0.028619583696126938 +/- 0.0015038991691976463\n",
      "60:\t0.028828252106904984 +/- 0.001507032918812786\n",
      "61:\t0.028892455622553825 +/- 0.0015102125516434505\n",
      "62:\t0.029069021344184875 +/- 0.001515651285293318\n",
      "63:\t0.029085073620080948 +/- 0.0015085868427127482\n",
      "64:\t0.02903691679239273 +/- 0.0015081746338248905\n",
      "65:\t0.029197433963418007 +/- 0.0015115108801311257\n",
      "66:\t0.029309792444109917 +/- 0.0015144239092780365\n",
      "67:\t0.02939004823565483 +/- 0.0015137913499478817\n",
      "68:\t0.029534513130784035 +/- 0.0015195666221825845\n",
      "69:\t0.029534511268138885 +/- 0.0015189150065169498\n",
      "70:\t0.02972712554037571 +/- 0.0015192046443149483\n",
      "71:\t0.029887640848755836 +/- 0.0015270164467709674\n",
      "72:\t0.029983948916196823 +/- 0.0015258516051381346\n",
      "73:\t0.03001605160534382 +/- 0.0015306450135632054\n",
      "74:\t0.030208667740225792 +/- 0.0015360593255015842\n",
      "75:\t0.030337080359458923 +/- 0.0015338524908452265\n",
      "76:\t0.03043338842689991 +/- 0.0015397638401162934\n",
      "77:\t0.03054574690759182 +/- 0.0015444920314709111\n",
      "78:\t0.03065810538828373 +/- 0.0015485617616801583\n",
      "79:\t0.030770467594265938 +/- 0.0015532532279610596\n",
      "80:\t0.03083467110991478 +/- 0.0015499149465122005\n",
      "81:\t0.030850723385810852 +/- 0.001551952031772414\n",
      "82:\t0.0308828242123127 +/- 0.0015483648153780379\n",
      "83:\t0.03083467110991478 +/- 0.001548637061957249\n",
      "84:\t0.030995186418294907 +/- 0.0015530469385041652\n",
      "85:\t0.031091494485735893 +/- 0.0015601297898748343\n",
      "86:\t0.0312359556555748 +/- 0.0015618391246660895\n",
      "87:\t0.03118780441582203 +/- 0.0015608478251952003\n",
      "88:\t0.03118779882788658 +/- 0.0015595788212626083\n",
      "89:\t0.03112359717488289 +/- 0.0015559224100190135\n",
      "Early stopiing!\n"
     ]
    }
   ],
   "source": [
    "model, precisions_at = fit_model(\n",
    "    epochs=200,\n",
    "    at=10,\n",
    "    loss=best_params[\"loss\"],\n",
    "    no_components=best_params[\"no_components\"], \n",
    "    learning_rate=best_params[\"learning_rate\"], \n",
    "    max_sampled=best_params[\"max_sampled\"],\n",
    "    user_alpha=best_params[\"user_alpha\"],\n",
    "    item_alpha=best_params[\"item_alpha\"],\n",
    "    verbose=True,\n",
    ")"
   ]
  },
  {
   "cell_type": "code",
   "execution_count": 38,
   "metadata": {},
   "outputs": [
    {
     "data": {
      "image/png": "[encoded data removed]",
      "text/plain": [
       "<Figure size 640x480 with 1 Axes>"
      ]
     },
     "metadata": {},
     "output_type": "display_data"
    }
   ],
   "source": [
    "figure, ax = pl.subplots()\n",
    "\n",
    "ax.plot(np.arange(len(precisions_at)), precisions_at)\n",
    "\n",
    "pass"
   ]
  },
  {
   "cell_type": "markdown",
   "metadata": {},
   "source": [
    "## Save track embeddings"
   ]
  },
  {
   "cell_type": "code",
   "execution_count": 39,
   "metadata": {},
   "outputs": [],
   "source": [
    "biases, embeddings = model.get_item_representations()"
   ]
  },
  {
   "cell_type": "code",
   "execution_count": 40,
   "metadata": {},
   "outputs": [],
   "source": [
    "model.item_biases *= 0.0"
   ]
  },
  {
   "cell_type": "code",
   "execution_count": 41,
   "metadata": {},
   "outputs": [],
   "source": [
    "track_meta = pd.read_json(DATA_DIR + \"tracks.json\", lines=True)\n",
    "track_meta[\"dataset_index\"] = track_meta[\"track\"].map(lambda t: dataset.mapping()[2].get(t))"
   ]
  },
  {
   "cell_type": "code",
   "execution_count": 42,
   "metadata": {},
   "outputs": [],
   "source": [
    "dataset_tracks = track_meta[pd.notnull(track_meta[\"dataset_index\"])].sort_values(\"dataset_index\")"
   ]
  },
  {
   "cell_type": "code",
   "execution_count": 43,
   "metadata": {},
   "outputs": [],
   "source": [
    "writer = tb.SummaryWriter(comment='msd_ligtfm_embeddings', log_dir=DATA_DIR + \"tb\")\n",
    "writer.add_embedding(embeddings, metadata=list(dataset_tracks[[\"artist\", \"title\"]].itertuples(index=False, name=None)), tag=\"lightfm\", metadata_header=[\"artist\", \"title\"])\n",
    "writer.close()"
   ]
  },
  {
   "cell_type": "markdown",
   "metadata": {},
   "source": [
    "## Compute top recommendations"
   ]
  },
  {
   "cell_type": "code",
   "execution_count": 44,
   "metadata": {},
   "outputs": [],
   "source": [
    "tracks = dataset_tracks[\"track\"].values\n",
    "users = [user for user, index in sorted(dataset.mapping()[0].items(), key=lambda kv: kv[1])]"
   ]
  },
  {
   "cell_type": "code",
   "execution_count": 45,
   "metadata": {},
   "outputs": [
    {
     "name": "stderr",
     "output_type": "stream",
     "text": [
      "100%|█████████████████████████████████████████████████████████████████████████████████████████████████████████████████████████████████████████████████████████████████| 7890/7890 [00:05<00:00, 1438.82it/s]\n"
     ]
    }
   ],
   "source": [
    "with open(DATA_DIR + \"recommendations.json\", \"w\") as rf:\n",
    "    for user_index in tqdm.tqdm(range(dataset.user_features_shape()[0])):\n",
    "        predictions = model.predict(user_index, np.arange(dataset.item_features_shape()[0]), num_threads=30)\n",
    "        top = tracks[np.argsort(predictions)[-100:]]\n",
    "        recommendation = {\n",
    "            \"user\": int(users[user_index]),\n",
    "            \"tracks\": [int(x) for x in top]\n",
    "        }\n",
    "        rf.write(json.dumps(recommendation) + \"\\n\")"
   ]
  },
  {
   "cell_type": "code",
   "execution_count": null,
   "metadata": {},
   "outputs": [],
   "source": []
  }
 ],
 "metadata": {
  "kernelspec": {
   "display_name": "Python 3 (ipykernel)",
   "language": "python",
   "name": "python3"
  },
  "language_info": {
   "codemirror_mode": {
    "name": "ipython",
    "version": 3
   },
   "file_extension": ".py",
   "mimetype": "text/x-python",
   "name": "python",
   "nbconvert_exporter": "python",
   "pygments_lexer": "ipython3",
   "version": "3.8.0"
  }
 },
 "nbformat": 4,
 "nbformat_minor": 4
}
