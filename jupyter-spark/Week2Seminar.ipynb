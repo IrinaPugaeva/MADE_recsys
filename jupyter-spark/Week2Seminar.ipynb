{
 "cells": [
  {
   "cell_type": "code",
   "execution_count": 1,
   "metadata": {
    "collapsed": true,
    "jupyter": {
     "outputs_hidden": true
    }
   },
   "outputs": [],
   "source": [
    "import json\n",
    "import random\n",
    "from collections import namedtuple\n",
    "\n",
    "import pandas as pd\n",
    "import numpy as np\n",
    "import scipy.stats as ss\n",
    "\n",
    "from pyspark.sql import SparkSession, Row\n",
    "import pyspark.sql.functions as spf\n",
    "from pyspark.sql.types import *\n",
    "\n",
    "import matplotlib.pyplot as plt\n",
    "\n",
    "%matplotlib inline"
   ]
  },
  {
   "cell_type": "code",
   "execution_count": 2,
   "metadata": {
    "collapsed": true,
    "jupyter": {
     "outputs_hidden": true
    }
   },
   "outputs": [],
   "source": [
    "spark = SparkSession.builder.appName(\"dnikanorova\").getOrCreate()"
   ]
  },
  {
   "cell_type": "code",
   "execution_count": 19,
   "metadata": {},
   "outputs": [
    {
     "name": "stdout",
     "output_type": "stream",
     "text": [
      "root\n",
      " |-- experiments: struct (nullable = true)\n",
      " |    |-- AA: string (nullable = true)\n",
      " |-- latency: double (nullable = true)\n",
      " |-- message: string (nullable = true)\n",
      " |-- recommendation: long (nullable = true)\n",
      " |-- time: double (nullable = true)\n",
      " |-- timestamp: long (nullable = true)\n",
      " |-- track: long (nullable = true)\n",
      " |-- user: long (nullable = true)\n",
      " |-- rnd: double (nullable = false)\n",
      "\n"
     ]
    }
   ],
   "source": [
    "data = spark.read.json(\"/user/dnikanorova/data/random_10k.json\").withColumn(\"rnd\", spf.rand())\n",
    "\n",
    "data.printSchema()"
   ]
  },
  {
   "cell_type": "markdown",
   "metadata": {},
   "source": [
    "## Compute track popularity"
   ]
  },
  {
   "cell_type": "code",
   "execution_count": 20,
   "metadata": {
    "collapsed": true,
    "jupyter": {
     "outputs_hidden": true
    }
   },
   "outputs": [],
   "source": [
    "track_popularity = (\n",
    "    data\n",
    "        .filter(spf.col(\"rnd\") > 0.5)\n",
    "        .groupBy(\n",
    "            spf.col(\"track\")\n",
    "        )\n",
    "        .agg(\n",
    "            spf.sum(spf.col(\"time\")).alias(\"popularity\")\n",
    "        )\n",
    "        .toPandas()\n",
    "        .sort_values(\"popularity\", ascending=False)\n",
    "        .reset_index(drop=True)\n",
    ")"
   ]
  },
  {
   "cell_type": "code",
   "execution_count": 21,
   "metadata": {},
   "outputs": [
    {
     "data": {
      "text/plain": [
       "[<matplotlib.lines.Line2D at 0x7f6e2ca5f7b8>]"
      ]
     },
     "execution_count": 21,
     "metadata": {},
     "output_type": "execute_result"
    },
    {
     "data": {
      "image/png": "[encoded data removed]",
      "text/plain": [
       "<matplotlib.figure.Figure at 0x7f6e2cb02fd0>"
      ]
     },
     "metadata": {},
     "output_type": "display_data"
    }
   ],
   "source": [
    "fig, ax = plt.subplots(figsize=(20, 5))\n",
    "\n",
    "ax.plot(track_popularity.index.values, track_popularity[\"popularity\"].values)"
   ]
  },
  {
   "cell_type": "code",
   "execution_count": 22,
   "metadata": {},
   "outputs": [
    {
     "data": {
      "text/html": [
       "<div>\n",
       "<style scoped>\n",
       "    .dataframe tbody tr th:only-of-type {\n",
       "        vertical-align: middle;\n",
       "    }\n",
       "\n",
       "    .dataframe tbody tr th {\n",
       "        vertical-align: top;\n",
       "    }\n",
       "\n",
       "    .dataframe thead th {\n",
       "        text-align: right;\n",
       "    }\n",
       "</style>\n",
       "<table border=\"1\" class=\"dataframe\">\n",
       "  <thead>\n",
       "    <tr style=\"text-align: right;\">\n",
       "      <th></th>\n",
       "      <th>track</th>\n",
       "      <th>popularity</th>\n",
       "    </tr>\n",
       "  </thead>\n",
       "  <tbody>\n",
       "    <tr>\n",
       "      <th>0</th>\n",
       "      <td>171</td>\n",
       "      <td>17.04</td>\n",
       "    </tr>\n",
       "    <tr>\n",
       "      <th>1</th>\n",
       "      <td>4186</td>\n",
       "      <td>16.00</td>\n",
       "    </tr>\n",
       "    <tr>\n",
       "      <th>2</th>\n",
       "      <td>1547</td>\n",
       "      <td>15.07</td>\n",
       "    </tr>\n",
       "    <tr>\n",
       "      <th>3</th>\n",
       "      <td>177</td>\n",
       "      <td>14.00</td>\n",
       "    </tr>\n",
       "    <tr>\n",
       "      <th>4</th>\n",
       "      <td>162</td>\n",
       "      <td>11.86</td>\n",
       "    </tr>\n",
       "  </tbody>\n",
       "</table>\n",
       "</div>"
      ],
      "text/plain": [
       "   track  popularity\n",
       "0    171       17.04\n",
       "1   4186       16.00\n",
       "2   1547       15.07\n",
       "3    177       14.00\n",
       "4    162       11.86"
      ]
     },
     "execution_count": 22,
     "metadata": {},
     "output_type": "execute_result"
    }
   ],
   "source": [
    "track_popularity.head()"
   ]
  },
  {
   "cell_type": "markdown",
   "metadata": {},
   "source": [
    "## Compute offline metrics"
   ]
  },
  {
   "cell_type": "code",
   "execution_count": 23,
   "metadata": {
    "collapsed": true,
    "jupyter": {
     "outputs_hidden": true
    }
   },
   "outputs": [],
   "source": [
    "def precision_at(recommendations, track, k):\n",
    "    return 1.0 / k * int(track in recommendations[:k])\n",
    "\n",
    "\n",
    "    \n",
    "def shuffled_precision_at(recommendations, track, k):\n",
    "    shuffled = list(recommendations)\n",
    "    random.shuffle(shuffled)\n",
    "    return precision_at(shuffled, track, k)"
   ]
  },
  {
   "cell_type": "code",
   "execution_count": 24,
   "metadata": {
    "collapsed": true,
    "jupyter": {
     "outputs_hidden": true
    }
   },
   "outputs": [],
   "source": [
    "tracks = track_popularity[\"track\"].tolist()\n",
    "\n",
    "t_p_10_udf = spf.udf(lambda track: precision_at(tracks, track, 10))\n",
    "st_10_p_10_udf = spf.udf(lambda track: shuffled_precision_at(tracks[:10], track, 10))\n",
    "st_100_p_10_udf = spf.udf(lambda track: shuffled_precision_at(tracks[:100], track, 10))\n",
    "st_1000_p_10_udf = spf.udf(lambda track: shuffled_precision_at(tracks[:1000], track, 10))\n",
    "\n",
    "\n",
    "metrics = (\n",
    "    data\n",
    "        .filter(spf.col(\"rnd\") <= 0.5)\n",
    "        .filter(spf.col(\"time\") >= 0.8)\n",
    "        .select(\n",
    "            t_p_10_udf(spf.col(\"track\")).alias(\"t_p_10_udf\"),\n",
    "            st_10_p_10_udf(spf.col(\"track\")).alias(\"st_10_p_10_udf\"),\n",
    "            st_100_p_10_udf(spf.col(\"track\")).alias(\"st_100_p_10_udf\"),\n",
    "            st_1000_p_10_udf(spf.col(\"track\")).alias(\"st_1000_p_10_udf\")\n",
    "        )\n",
    ")"
   ]
  },
  {
   "cell_type": "code",
   "execution_count": 25,
   "metadata": {},
   "outputs": [
    {
     "data": {
      "text/html": [
       "<div>\n",
       "<style scoped>\n",
       "    .dataframe tbody tr th:only-of-type {\n",
       "        vertical-align: middle;\n",
       "    }\n",
       "\n",
       "    .dataframe tbody tr th {\n",
       "        vertical-align: top;\n",
       "    }\n",
       "\n",
       "    .dataframe thead th {\n",
       "        text-align: right;\n",
       "    }\n",
       "</style>\n",
       "<table border=\"1\" class=\"dataframe\">\n",
       "  <thead>\n",
       "    <tr style=\"text-align: right;\">\n",
       "      <th></th>\n",
       "      <th>summary</th>\n",
       "      <th>t_p_10_udf</th>\n",
       "      <th>st_10_p_10_udf</th>\n",
       "      <th>st_100_p_10_udf</th>\n",
       "      <th>st_1000_p_10_udf</th>\n",
       "    </tr>\n",
       "  </thead>\n",
       "  <tbody>\n",
       "    <tr>\n",
       "      <th>0</th>\n",
       "      <td>count</td>\n",
       "      <td>8089</td>\n",
       "      <td>8089</td>\n",
       "      <td>8089</td>\n",
       "      <td>8089</td>\n",
       "    </tr>\n",
       "    <tr>\n",
       "      <th>1</th>\n",
       "      <td>mean</td>\n",
       "      <td>8.159228582024974E-4</td>\n",
       "      <td>8.159228582024974E-4</td>\n",
       "      <td>4.821362343923849E-4</td>\n",
       "      <td>1.8543701322784028E-4</td>\n",
       "    </tr>\n",
       "    <tr>\n",
       "      <th>2</th>\n",
       "      <td>stddev</td>\n",
       "      <td>0.00899647494665875</td>\n",
       "      <td>0.00899647494665875</td>\n",
       "      <td>0.00692727222508606</td>\n",
       "      <td>0.004302511235059575</td>\n",
       "    </tr>\n",
       "    <tr>\n",
       "      <th>3</th>\n",
       "      <td>min</td>\n",
       "      <td>0.0</td>\n",
       "      <td>0.0</td>\n",
       "      <td>0.0</td>\n",
       "      <td>0.0</td>\n",
       "    </tr>\n",
       "    <tr>\n",
       "      <th>4</th>\n",
       "      <td>max</td>\n",
       "      <td>0.1</td>\n",
       "      <td>0.1</td>\n",
       "      <td>0.1</td>\n",
       "      <td>0.1</td>\n",
       "    </tr>\n",
       "  </tbody>\n",
       "</table>\n",
       "</div>"
      ],
      "text/plain": [
       "  summary            t_p_10_udf        st_10_p_10_udf       st_100_p_10_udf  \\\n",
       "0   count                  8089                  8089                  8089   \n",
       "1    mean  8.159228582024974E-4  8.159228582024974E-4  4.821362343923849E-4   \n",
       "2  stddev   0.00899647494665875   0.00899647494665875   0.00692727222508606   \n",
       "3     min                   0.0                   0.0                   0.0   \n",
       "4     max                   0.1                   0.1                   0.1   \n",
       "\n",
       "        st_1000_p_10_udf  \n",
       "0                   8089  \n",
       "1  1.8543701322784028E-4  \n",
       "2   0.004302511235059575  \n",
       "3                    0.0  \n",
       "4                    0.1  "
      ]
     },
     "execution_count": 25,
     "metadata": {},
     "output_type": "execute_result"
    }
   ],
   "source": [
    "metrics.describe().toPandas()"
   ]
  },
  {
   "cell_type": "markdown",
   "metadata": {},
   "source": [
    "## Export data for prod"
   ]
  },
  {
   "cell_type": "code",
   "execution_count": 26,
   "metadata": {},
   "outputs": [],
   "source": [
    "with open(\"../data/top_tracks.json\", \"w\") as top_tracks_file:\n",
    "    json.dump(tracks, top_tracks_file)"
   ]
  },
  {
   "cell_type": "code",
   "execution_count": null,
   "metadata": {
    "collapsed": true,
    "jupyter": {
     "outputs_hidden": true
    }
   },
   "outputs": [],
   "source": []
  }
 ],
 "metadata": {
  "kernelspec": {
   "display_name": "Python 3 (ipykernel)",
   "language": "python",
   "name": "python3"
  },
  "language_info": {
   "codemirror_mode": {
    "name": "ipython",
    "version": 3
   },
   "file_extension": ".py",
   "mimetype": "text/x-python",
   "name": "python",
   "nbconvert_exporter": "python",
   "pygments_lexer": "ipython3",
   "version": "3.9.7"
  }
 },
 "nbformat": 4,
 "nbformat_minor": 4
}
