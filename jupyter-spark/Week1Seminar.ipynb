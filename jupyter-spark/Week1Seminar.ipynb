{
 "cells": [
  {
   "cell_type": "code",
   "execution_count": null,
   "metadata": {},
   "outputs": [],
   "source": [
    "from collections import namedtuple\n",
    "\n",
    "import pandas as pd\n",
    "import numpy as np\n",
    "import scipy.stats as ss\n",
    "\n",
    "from pyspark.sql import SparkSession, Row\n",
    "import pyspark.sql.functions as spf\n",
    "from pyspark.sql.types import *\n",
    "\n",
    "import matplotlib.pyplot as plt\n",
    "\n",
    "%matplotlib inline"
   ]
  },
  {
   "cell_type": "code",
   "execution_count": null,
   "metadata": {
    "tags": []
   },
   "outputs": [],
   "source": [
    "spark = SparkSession.builder.appName(\"dnikanorova\").getOrCreate()"
   ]
  },
  {
   "cell_type": "code",
   "execution_count": null,
   "metadata": {},
   "outputs": [],
   "source": [
    "data = spark.read.json(\"/user/dnikanorova/week1/\")\n",
    "\n",
    "data.printSchema()"
   ]
  },
  {
   "cell_type": "markdown",
   "metadata": {},
   "source": [
    "## Visualize sessions"
   ]
  },
  {
   "cell_type": "code",
   "execution_count": null,
   "metadata": {},
   "outputs": [],
   "source": [
    "experiment = \"AA\"\n",
    "\n",
    "Session = namedtuple(\"Session\", [\"timestamp\", \"tracks\", \"time\"])\n",
    "\n",
    "schema = ArrayType(StructType([\n",
    "    StructField(\"timestamp\", LongType(), False),\n",
    "    StructField(\"tracks\", LongType(), False),\n",
    "    StructField(\"time\", FloatType(), False)\n",
    "]))\n",
    "\n",
    "def sessionize(tracks):\n",
    "    sessions = []\n",
    "    session_tracks = 0\n",
    "    session_time = 0\n",
    "    for track in tracks:\n",
    "        session_tracks += 1\n",
    "        session_time += track[\"time\"]\n",
    "        if track[\"message\"] == \"last\":\n",
    "            sessions.append(Session(timestamp=track[\"timestamp\"], tracks=session_tracks, time=session_time))\n",
    "            session_tracks = 0\n",
    "            session_time = 0\n",
    "    return sessions\n",
    "            \n",
    "sessionize_udf = spf.udf(sessionize, schema)\n",
    "\n",
    "sessions = (\n",
    "  data\n",
    "    .groupBy(\n",
    "        spf.col(\"user\"), \n",
    "        spf.col(\"experiments.\" + experiment).alias(\"treatment\")\n",
    "    )\n",
    "    .agg(\n",
    "        spf.sort_array(spf.collect_list(spf.struct(\n",
    "            spf.col(\"timestamp\"),\n",
    "            spf.col(\"message\"),\n",
    "            spf.col(\"time\"),\n",
    "        )).alias(\"track\")).alias(\"tracks\")\n",
    "    )\n",
    "    .select(\n",
    "        spf.col(\"treatment\"),\n",
    "        spf.explode(sessionize_udf(spf.col(\"tracks\"))).alias(\"session\"),\n",
    "    )\n",
    "    .select(\n",
    "        spf.col(\"treatment\"),\n",
    "        spf.col(\"session.*\"),\n",
    "    )\n",
    "    .toPandas()\n",
    "    .set_index(\"timestamp\")\n",
    "    .sort_index()\n",
    ")"
   ]
  },
  {
   "cell_type": "code",
   "execution_count": null,
   "metadata": {},
   "outputs": [],
   "source": [
    "figure, ax = plt.subplots(figsize=(15, 5))\n",
    "for treatment, treatment_sessions in sessions.groupby(\"treatment\"):\n",
    "    ax.plot(treatment_sessions.index, treatment_sessions[\"tracks\"], label=treatment)"
   ]
  },
  {
   "cell_type": "code",
   "execution_count": null,
   "metadata": {},
   "outputs": [],
   "source": [
    "figure, ax = plt.subplots(figsize=(15, 5))\n",
    "for treatment, treatment_sessions in sessions.groupby(\"treatment\"):\n",
    "    ax.plot(treatment_sessions.index, treatment_sessions[\"time\"], label=treatment)"
   ]
  },
  {
   "cell_type": "markdown",
   "metadata": {},
   "source": [
    "## Analyze experiment"
   ]
  },
  {
   "cell_type": "code",
   "execution_count": null,
   "metadata": {
    "collapsed": true,
    "jupyter": {
     "outputs_hidden": true
    }
   },
   "outputs": [],
   "source": [
    "experiment = \"AA\"\n",
    "\n",
    "user_level_data = (\n",
    "  data\n",
    "    .groupBy(\n",
    "        spf.col(\"user\"), \n",
    "        spf.col(\"experiments.\" + experiment).alias(\"treatment\")\n",
    "    )\n",
    "    .agg(\n",
    "        spf.count(spf.when(spf.col(\"message\") == \"last\", spf.col(\"user\"))).alias(\"sessions\"),\n",
    "        (spf.count(\"user\") / spf.count(spf.when(spf.col(\"message\") == \"last\", spf.col(\"user\")))).alias(\"mean_session_length\"),\n",
    "        (spf.sum(\"time\") / spf.count(spf.when(spf.col(\"message\") == \"last\", spf.col(\"user\")))).alias(\"mean_session_time\"),\n",
    "        (spf.sum(\"latency\") / spf.count(\"user\")).alias(\"mean_request_time\")\n",
    "    )\n",
    ")\n",
    "\n",
    "metrics = [column for column in user_level_data.columns if column not in (\"user\", \"treatment\")]\n",
    "\n",
    "metric_stats = []\n",
    "for metric in metrics:\n",
    "    metric_stats.extend(\n",
    "        [\n",
    "            spf.avg(metric).alias(\"mean_\" + metric),\n",
    "            spf.variance(metric).alias(\"var_\" + metric),\n",
    "            spf.count(metric).alias(\"n_\" + metric)\n",
    "        ]\n",
    "    )\n",
    "    \n",
    "treatment_level_data = (\n",
    "    user_level_data\n",
    "      .groupBy(spf.col(\"treatment\"))\n",
    "      .agg(*metric_stats)\n",
    "      .collect()\n",
    ")"
   ]
  },
  {
   "cell_type": "code",
   "execution_count": null,
   "metadata": {},
   "outputs": [],
   "source": [
    "def dof(n_0, n_1, s2_0, s2_1):\n",
    "    numerator = (s2_0 / n_0 + s2_1 / n_1) * (s2_0 / n_0 + s2_1 / n_1)\n",
    "    denominator = s2_0 * s2_0 / n_0 / n_0 / (n_0 - 1) + s2_1 * s2_1 / n_1 / n_1 / (n_1 - 1)\n",
    "    return numerator / denominator\n",
    "\n",
    "\n",
    "def ci(n_0, n_1, s2_0, s2_1, alpha=0.05):\n",
    "    return ss.t.ppf(1 - alpha/2, dof(n_0, n_1, s2_0, s2_1)) * np.sqrt(s2_0 / n_0 + s2_1 / n_1)\n",
    "\n",
    "\n",
    "effects = []\n",
    "\n",
    "control = [data for data in treatment_level_data if data[\"treatment\"] == \"C\"][0]\n",
    "\n",
    "for row in treatment_level_data:\n",
    "    if row[\"treatment\"] == \"C\":\n",
    "        continue\n",
    "    \n",
    "    for metric in metrics:\n",
    "        control_mean = control[\"mean_\" + metric]\n",
    "        treatment_mean = row[\"mean_\" + metric]\n",
    "        \n",
    "        effect = treatment_mean - control_mean\n",
    "        conf_int = ci(\n",
    "            control[\"n_\" + metric],\n",
    "            row[\"n_\" + metric],\n",
    "            control[\"var_\" + metric],\n",
    "            row[\"var_\" + metric],\n",
    "        )\n",
    "        effects.append({\n",
    "            \"treatment\": row[\"treatment\"],\n",
    "            \"metric\": metric,\n",
    "            \"control_mean\": control_mean,\n",
    "            \"treatment_mean\": treatment_mean,\n",
    "            \"effect\": effect / control_mean * 100,\n",
    "            \"lower\": (effect - conf_int) / control_mean * 100,\n",
    "            \"upper\": (effect + conf_int) / control_mean * 100,\n",
    "            \"significant\": (effect + conf_int) * (effect - conf_int) > 0\n",
    "        })"
   ]
  },
  {
   "cell_type": "code",
   "execution_count": null,
   "metadata": {},
   "outputs": [],
   "source": [
    "def color(value):\n",
    "    return 'color:red;' if value < 0 else 'color:green;'\n",
    "\n",
    "def background(value):\n",
    "    return 'color:white;background-color:green' if value else 'color:white;background-color:red'\n",
    "        \n",
    "\n",
    "(\n",
    "    pd.DataFrame(effects)[[\n",
    "        \"treatment\", \n",
    "        \"metric\",\n",
    "        \"effect\", \n",
    "        \"upper\", \n",
    "        \"lower\", \n",
    "        \"control_mean\", \n",
    "        \"treatment_mean\",\n",
    "        \"significant\"\n",
    "    ]]\n",
    "    .sort_values(\"effect\", ascending=False)\n",
    "    .style\n",
    "    .applymap(color, subset=[\"effect\", \"upper\", \"lower\"])\n",
    "    .applymap(background, subset=[\"significant\"])\n",
    ")"
   ]
  },
  {
   "cell_type": "code",
   "execution_count": null,
   "metadata": {
    "collapsed": true,
    "jupyter": {
     "outputs_hidden": true
    }
   },
   "outputs": [],
   "source": []
  }
 ],
 "metadata": {
  "kernelspec": {
   "display_name": "Python 3 (ipykernel)",
   "language": "python",
   "name": "python3"
  },
  "language_info": {
   "codemirror_mode": {
    "name": "ipython",
    "version": 3
   },
   "file_extension": ".py",
   "mimetype": "text/x-python",
   "name": "python",
   "nbconvert_exporter": "python",
   "pygments_lexer": "ipython3",
   "version": "3.9.7"
  }
 },
 "nbformat": 4,
 "nbformat_minor": 4
}
